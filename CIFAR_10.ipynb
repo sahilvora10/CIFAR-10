{
  "nbformat": 4,
  "nbformat_minor": 0,
  "metadata": {
    "colab": {
      "name": "CIFAR-10.ipynb",
      "version": "0.3.2",
      "provenance": [],
      "collapsed_sections": []
    },
    "kernelspec": {
      "name": "python3",
      "display_name": "Python 3"
    },
    "accelerator": "GPU"
  },
  "cells": [
    {
      "cell_type": "markdown",
      "metadata": {
        "id": "view-in-github",
        "colab_type": "text"
      },
      "source": [
        "[View in Colaboratory](https://colab.research.google.com/github/sahilvora10/CIFAR-10/blob/master/CIFAR_10.ipynb)"
      ]
    },
    {
      "metadata": {
        "id": "xxhS7YUONni7",
        "colab_type": "text"
      },
      "cell_type": "markdown",
      "source": [
        "# ** CIFAR - 10 **\n",
        "\n",
        "We will classify  the CIFAR-10 dataset containing 60,000 images into 10 label classes.\n",
        "We will use CNN using Keras over Tensorflow."
      ]
    },
    {
      "metadata": {
        "id": "J8LZ9RVEONa_",
        "colab_type": "text"
      },
      "cell_type": "markdown",
      "source": [
        "The next few blocks are to run Keras in Google Colab"
      ]
    },
    {
      "metadata": {
        "id": "b3CN97X2SYVu",
        "colab_type": "code",
        "colab": {}
      },
      "cell_type": "code",
      "source": [
        "!pip install -q keras\n",
        "!pip install -q tqdm\n",
        "\n",
        "#openCV is used to process and filter images\n",
        "!apt-get -qq install -y libsm6 libxext6 && pip install -q -U opencv-python\n",
        "\n",
        "!apt-get install -y -qq software-properties-common python-software-properties module-init-tools\n",
        "!add-apt-repository -y ppa:alessandro-strada/ppa 2>&1 > /dev/null\n",
        "!apt-get update -qq 2>&1 > /dev/null\n",
        "!apt-get -y install -qq google-drive-ocamlfuse fuse\n",
        "\n"
      ],
      "execution_count": 0,
      "outputs": []
    },
    {
      "metadata": {
        "id": "GKvC_8gSShZm",
        "colab_type": "code",
        "colab": {}
      },
      "cell_type": "code",
      "source": [
        "from google.colab import auth\n",
        "auth.authenticate_user()"
      ],
      "execution_count": 0,
      "outputs": []
    },
    {
      "metadata": {
        "id": "usWDAkHlTIqG",
        "colab_type": "code",
        "colab": {}
      },
      "cell_type": "code",
      "source": [
        "from oauth2client.client import GoogleCredentials\n",
        "creds = GoogleCredentials.get_application_default()\n",
        "import getpass\n",
        "!google-drive-ocamlfuse -headless -id={creds.client_id} -secret={creds.client_secret} < /dev/null 2>&1 | grep URL\n",
        "!echo {vcode} | google-drive-ocamlfuse -headless -id={creds.client_id} -secret={creds.client_secret}\n",
        "vcode = getpass.getpass()"
      ],
      "execution_count": 0,
      "outputs": []
    },
    {
      "metadata": {
        "id": "cqtgKPpfT88f",
        "colab_type": "code",
        "colab": {}
      },
      "cell_type": "code",
      "source": [
        "!mkdir -p drive\n",
        "!google-drive-ocamlfuse drive\n",
        "\n",
        "# print 'Files in Drive:'\n",
        "!ls drive/"
      ],
      "execution_count": 0,
      "outputs": []
    },
    {
      "metadata": {
        "id": "XaqXN6A0OrmZ",
        "colab_type": "text"
      },
      "cell_type": "markdown",
      "source": [
        "Here are few Libraries which are very important."
      ]
    },
    {
      "metadata": {
        "id": "bCx5RlGETtEB",
        "colab_type": "code",
        "colab": {
          "base_uri": "https://localhost:8080/",
          "height": 88
        },
        "outputId": "7372310a-b5a4-42dc-ca29-c5e55950e8a3"
      },
      "cell_type": "code",
      "source": [
        "from __future__ import print_function, division\n",
        "\n",
        "import keras as keras\n",
        "import numpy as np\n",
        "import random\n",
        "import os\n",
        "import glob\n",
        "# https://opencv.org/\n",
        "!apt-get -qq install -y libsm6 libxext6 && pip install -q -U opencv-python\n",
        "import cv2\n",
        "import datetime\n",
        "import pandas as pd\n",
        "import time\n",
        "import h5py\n",
        "import csv\n",
        "\n",
        "from scipy.misc import imresize, imsave\n",
        "\n",
        "from sklearn.cross_validation import KFold, train_test_split\n",
        "from sklearn.metrics import log_loss, confusion_matrix\n",
        "from sklearn.utils import shuffle\n",
        "\n",
        "from PIL import Image, ImageChops, ImageOps\n",
        "\n",
        "import matplotlib.pyplot as plt\n",
        "\n",
        "from keras import backend as K\n",
        "from keras.callbacks import EarlyStopping, Callback\n",
        "from keras.utils import np_utils\n",
        "from keras.preprocessing.image import ImageDataGenerator, load_img, img_to_array\n",
        "from keras import optimizers\n",
        "from keras.models import Sequential, model_from_json\n",
        "from keras.layers import Convolution2D, MaxPooling2D, ZeroPadding2D, Activation, Dropout, Flatten, Dense"
      ],
      "execution_count": 6,
      "outputs": [
        {
          "output_type": "stream",
          "text": [
            "Using TensorFlow backend.\n",
            "/usr/local/lib/python3.6/dist-packages/sklearn/cross_validation.py:41: DeprecationWarning: This module was deprecated in version 0.18 in favor of the model_selection module into which all the refactored classes and functions are moved. Also note that the interface of the new CV iterators are different from that of this module. This module will be removed in 0.20.\n",
            "  \"This module will be removed in 0.20.\", DeprecationWarning)\n"
          ],
          "name": "stderr"
        }
      ]
    },
    {
      "metadata": {
        "id": "wVInQBdrOzHr",
        "colab_type": "text"
      },
      "cell_type": "markdown",
      "source": [
        "**LOAD THE DATASET AND PREPROCESS IT.**"
      ]
    },
    {
      "metadata": {
        "id": "sjs5gOLyUOvN",
        "colab_type": "code",
        "colab": {
          "base_uri": "https://localhost:8080/",
          "height": 384
        },
        "outputId": "5e904a8d-ddb2-4d10-a413-1c3d5013e517"
      },
      "cell_type": "code",
      "source": [
        "# Plot ad hoc CIFAR10 instances\n",
        "from keras.datasets import cifar10\n",
        "from matplotlib import pyplot\n",
        "from scipy.misc import toimage\n",
        "# load data\n",
        "(X_train, y_train), (X_test, y_test) = cifar10.load_data()\n",
        "# create a grid of 3x3 images\n",
        "for i in range(0, 9):\n",
        "\tpyplot.subplot(330 + 1 + i)\n",
        "\tpyplot.imshow(toimage(X_train[i]))\n",
        "# show the plot\n",
        "pyplot.show()"
      ],
      "execution_count": 7,
      "outputs": [
        {
          "output_type": "stream",
          "text": [
            "Downloading data from https://www.cs.toronto.edu/~kriz/cifar-10-python.tar.gz\n",
            "170500096/170498071 [==============================] - 16s 0us/step\n"
          ],
          "name": "stdout"
        },
        {
          "output_type": "display_data",
          "data": {
            "image/png": "[encoded data removed]",
            "text/plain": [
              "<matplotlib.figure.Figure at 0x7efe139c2160>"
            ]
          },
          "metadata": {
            "tags": []
          }
        }
      ]
    },
    {
      "metadata": {
        "id": "WfMXyywHUe6j",
        "colab_type": "code",
        "colab": {}
      },
      "cell_type": "code",
      "source": [
        "import numpy\n",
        "from keras.datasets import cifar10\n",
        "from keras.models import Sequential\n",
        "from keras.layers import Dense\n",
        "from keras.layers import Dropout\n",
        "from keras.layers import Flatten\n",
        "from keras.constraints import maxnorm\n",
        "from keras.optimizers import SGD\n",
        "from keras.layers.convolutional import Conv2D\n",
        "from keras.layers.convolutional import MaxPooling2D\n",
        "from keras.utils import np_utils\n",
        "from keras import backend as K\n",
        "K.set_image_dim_ordering('th')"
      ],
      "execution_count": 0,
      "outputs": []
    },
    {
      "metadata": {
        "id": "mxOBOSsLUuBj",
        "colab_type": "code",
        "colab": {}
      },
      "cell_type": "code",
      "source": [
        "# fix random seed for reproducibility\n",
        "seed = 7\n",
        "numpy.random.seed(seed)"
      ],
      "execution_count": 0,
      "outputs": []
    },
    {
      "metadata": {
        "id": "baUxtXkBU1G8",
        "colab_type": "code",
        "colab": {}
      },
      "cell_type": "code",
      "source": [
        "# load data\n",
        "(X, y), (X_test, y_test) = cifar10.load_data()"
      ],
      "execution_count": 0,
      "outputs": []
    },
    {
      "metadata": {
        "id": "ySDahpxS_a2Y",
        "colab_type": "code",
        "colab": {}
      },
      "cell_type": "code",
      "source": [
        "X_train = X[:40000]\n",
        "y_train = y[:40000]\n",
        "X_valid = X[40000:]\n",
        "y_valid = y[40000:]\n"
      ],
      "execution_count": 0,
      "outputs": []
    },
    {
      "metadata": {
        "id": "IVtm1MJgAF_R",
        "colab_type": "code",
        "colab": {
          "base_uri": "https://localhost:8080/",
          "height": 35
        },
        "outputId": "5fb4173f-fbcf-43ff-8319-d71ccda20416"
      },
      "cell_type": "code",
      "source": [
        "\n",
        "y_train.shape"
      ],
      "execution_count": 0,
      "outputs": [
        {
          "output_type": "execute_result",
          "data": {
            "text/plain": [
              "(40000, 1)"
            ]
          },
          "metadata": {
            "tags": []
          },
          "execution_count": 39
        }
      ]
    },
    {
      "metadata": {
        "id": "GB8TzTfJU41U",
        "colab_type": "code",
        "colab": {}
      },
      "cell_type": "code",
      "source": [
        "# normalize inputs from 0-255 to 0.0-1.0\n",
        "X_train = X_train.astype('float32')\n",
        "X_valid = X_valid.astype('float32')                         \n",
        "X_test = X_test.astype('float32')\n",
        "X_train = X_train / 255.0\n",
        "X_valid = X_valid / 255.0\n",
        "X_test = X_test / 255.0"
      ],
      "execution_count": 0,
      "outputs": []
    },
    {
      "metadata": {
        "id": "1y6uEGyzU_8T",
        "colab_type": "code",
        "colab": {}
      },
      "cell_type": "code",
      "source": [
        "# one hot encode outputs\n",
        "y_train = np_utils.to_categorical(y_train)\n",
        "y_valid = np_utils.to_categorical(y_valid)\n",
        "y_test = np_utils.to_categorical(y_test)\n",
        "num_classes = y_test.shape[1]"
      ],
      "execution_count": 0,
      "outputs": []
    },
    {
      "metadata": {
        "id": "TubjjzqNVJto",
        "colab_type": "code",
        "colab": {
          "base_uri": "https://localhost:8080/",
          "height": 35
        },
        "outputId": "9f5b8423-0ec5-4801-9e4a-719eba3a9021"
      },
      "cell_type": "code",
      "source": [
        "X_train.shape\n"
      ],
      "execution_count": 0,
      "outputs": [
        {
          "output_type": "execute_result",
          "data": {
            "text/plain": [
              "(40000, 3, 32, 32)"
            ]
          },
          "metadata": {
            "tags": []
          },
          "execution_count": 47
        }
      ]
    },
    {
      "metadata": {
        "id": "L_W9a-YWVMN-",
        "colab_type": "code",
        "colab": {
          "base_uri": "https://localhost:8080/",
          "height": 35
        },
        "outputId": "d6fb8f0f-76ba-40f2-a278-53bc430ef383"
      },
      "cell_type": "code",
      "source": [
        "num_classes"
      ],
      "execution_count": 0,
      "outputs": [
        {
          "output_type": "execute_result",
          "data": {
            "text/plain": [
              "10"
            ]
          },
          "metadata": {
            "tags": []
          },
          "execution_count": 43
        }
      ]
    },
    {
      "metadata": {
        "id": "1a5LRWChPBJ0",
        "colab_type": "text"
      },
      "cell_type": "markdown",
      "source": [
        "***BUILD FIRST MODEL AND COMPILE IT.***"
      ]
    },
    {
      "metadata": {
        "id": "1h1xvv3QVO7N",
        "colab_type": "code",
        "colab": {
          "base_uri": "https://localhost:8080/",
          "height": 425
        },
        "outputId": "8390ae52-21e8-4c15-ca43-4ec30f3cd9d6"
      },
      "cell_type": "code",
      "source": [
        "# Create the model\n",
        "model = Sequential()\n",
        "model.add(Conv2D(32, (3, 3), input_shape=(3,32, 32), padding='same', activation='relu', kernel_constraint=maxnorm(3)))\n",
        "model.add(Dropout(0.2))\n",
        "model.add(Conv2D(32, (3, 3), activation='relu', padding='same', kernel_constraint=maxnorm(3)))\n",
        "model.add(MaxPooling2D(pool_size=(2, 2)))\n",
        "model.add(Flatten())\n",
        "model.add(Dense(512, activation='relu', kernel_constraint=maxnorm(3)))\n",
        "model.add(Dropout(0.5))\n",
        "model.add(Dense(num_classes, activation='softmax'))\n",
        "# Compile model\n",
        "epochs = 25\n",
        "lrate = 0.01\n",
        "decay = lrate/epochs\n",
        "nadam=keras.optimizers.Nadam(lr=0.001, beta_1=0.9, beta_2=0.999, epsilon=None, schedule_decay=0.004)\n",
        "model.compile(loss='categorical_crossentropy', optimizer=nadam, metrics=['accuracy'])\n",
        "print(model.summary())\n"
      ],
      "execution_count": 15,
      "outputs": [
        {
          "output_type": "stream",
          "text": [
            "_________________________________________________________________\n",
            "Layer (type)                 Output Shape              Param #   \n",
            "=================================================================\n",
            "conv2d_1 (Conv2D)            (None, 32, 32, 32)        896       \n",
            "_________________________________________________________________\n",
            "dropout_1 (Dropout)          (None, 32, 32, 32)        0         \n",
            "_________________________________________________________________\n",
            "conv2d_2 (Conv2D)            (None, 32, 32, 32)        9248      \n",
            "_________________________________________________________________\n",
            "max_pooling2d_1 (MaxPooling2 (None, 32, 16, 16)        0         \n",
            "_________________________________________________________________\n",
            "flatten_1 (Flatten)          (None, 8192)              0         \n",
            "_________________________________________________________________\n",
            "dense_1 (Dense)              (None, 512)               4194816   \n",
            "_________________________________________________________________\n",
            "dropout_2 (Dropout)          (None, 512)               0         \n",
            "_________________________________________________________________\n",
            "dense_2 (Dense)              (None, 10)                5130      \n",
            "=================================================================\n",
            "Total params: 4,210,090\n",
            "Trainable params: 4,210,090\n",
            "Non-trainable params: 0\n",
            "_________________________________________________________________\n",
            "None\n"
          ],
          "name": "stdout"
        }
      ]
    },
    {
      "metadata": {
        "id": "VZ09RCV7PIqM",
        "colab_type": "text"
      },
      "cell_type": "markdown",
      "source": [
        "***FIT THE MODEL***"
      ]
    },
    {
      "metadata": {
        "id": "vnHDtOpfVef_",
        "colab_type": "code",
        "colab": {
          "base_uri": "https://localhost:8080/",
          "height": 904
        },
        "outputId": "7c42552e-0a53-4f38-83d2-f2648d462c10"
      },
      "cell_type": "code",
      "source": [
        "# Fit the model\n",
        "model1=model.fit(X_train, y_train, validation_data=(X_valid, y_valid), epochs=epochs, batch_size=32)\n",
        "# Final evaluation of the model\n",
        "#scores = model.evaluate(X_valid, y_valid, verbose=0)\n",
        "#print(\"Accuracy: %.2f%%\" % (scores[1]*100))"
      ],
      "execution_count": 17,
      "outputs": [
        {
          "output_type": "stream",
          "text": [
            "Train on 40000 samples, validate on 10000 samples\n",
            "Epoch 1/25\n",
            "40000/40000 [==============================] - 27s 684us/step - loss: 0.7238 - acc: 0.7468 - val_loss: 0.8613 - val_acc: 0.7017\n",
            "Epoch 2/25\n",
            "12064/40000 [========>.....................] - ETA: 18s - loss: 0.6072 - acc: 0.7885"
          ],
          "name": "stdout"
        },
        {
          "output_type": "stream",
          "text": [
            "40000/40000 [==============================] - 28s 691us/step - loss: 0.7029 - acc: 0.7539 - val_loss: 0.8701 - val_acc: 0.7003\n",
            "Epoch 3/25\n",
            "31392/40000 [======================>.......] - ETA: 5s - loss: 0.6601 - acc: 0.7695"
          ],
          "name": "stdout"
        },
        {
          "output_type": "stream",
          "text": [
            "40000/40000 [==============================] - 28s 688us/step - loss: 0.6831 - acc: 0.7611 - val_loss: 0.8698 - val_acc: 0.6976\n",
            "Epoch 4/25\n",
            "39360/40000 [============================>.] - ETA: 0s - loss: 0.6614 - acc: 0.7691"
          ],
          "name": "stdout"
        },
        {
          "output_type": "stream",
          "text": [
            "40000/40000 [==============================] - 27s 675us/step - loss: 0.6628 - acc: 0.7685 - val_loss: 0.8719 - val_acc: 0.6999\n",
            "Epoch 5/25\n",
            "40000/40000 [==============================] - 27s 681us/step - loss: 0.6425 - acc: 0.7757 - val_loss: 0.8632 - val_acc: 0.7044\n",
            "Epoch 6/25\n",
            " 1280/40000 [..............................] - ETA: 25s - loss: 0.5146 - acc: 0.8219"
          ],
          "name": "stdout"
        },
        {
          "output_type": "stream",
          "text": [
            "40000/40000 [==============================] - 27s 678us/step - loss: 0.6264 - acc: 0.7823 - val_loss: 0.8966 - val_acc: 0.6972\n",
            "Epoch 7/25\n",
            "27808/40000 [===================>..........] - ETA: 7s - loss: 0.5847 - acc: 0.7967"
          ],
          "name": "stdout"
        },
        {
          "output_type": "stream",
          "text": [
            "40000/40000 [==============================] - 27s 669us/step - loss: 0.6284 - acc: 0.7808 - val_loss: 0.8876 - val_acc: 0.6935\n",
            "Epoch 8/25\n",
            "37344/40000 [===========================>..] - ETA: 1s - loss: 0.6072 - acc: 0.7878"
          ],
          "name": "stdout"
        },
        {
          "output_type": "stream",
          "text": [
            "40000/40000 [==============================] - 27s 680us/step - loss: 0.6138 - acc: 0.7852 - val_loss: 0.8958 - val_acc: 0.6999\n",
            "Epoch 9/25\n",
            "40000/40000 [==============================] - 27s 686us/step - loss: 0.5917 - acc: 0.7922 - val_loss: 0.8994 - val_acc: 0.6949\n",
            "Epoch 10/25\n",
            "  704/40000 [..............................] - ETA: 26s - loss: 0.4864 - acc: 0.8253\b\b\b\b\b\b\b\b\b\b\b\b\b\b\b\b\b\b\b\b\b\b\b\b\b\b\b\b\b\b\b\b\b\b\b\b\b\b\b\b\b\b\b\b\b\b\b\b\b\b\b\b\b\b\b\b\b\b\b\b\b\b\b\b\b\b\b\b\b\b\b\b\b\b\b\b\b\b\b\b\b\b\b\b"
          ],
          "name": "stdout"
        },
        {
          "output_type": "stream",
          "text": [
            "40000/40000 [==============================] - 27s 684us/step - loss: 0.5941 - acc: 0.7922 - val_loss: 0.9067 - val_acc: 0.6923\n",
            "Epoch 11/25\n",
            "27520/40000 [===================>..........] - ETA: 8s - loss: 0.5412 - acc: 0.8113"
          ],
          "name": "stdout"
        },
        {
          "output_type": "stream",
          "text": [
            "40000/40000 [==============================] - 27s 683us/step - loss: 0.5864 - acc: 0.7941 - val_loss: 0.8704 - val_acc: 0.7066\n",
            "Epoch 12/25\n",
            "36736/40000 [==========================>...] - ETA: 2s - loss: 0.5659 - acc: 0.8019"
          ],
          "name": "stdout"
        },
        {
          "output_type": "stream",
          "text": [
            "40000/40000 [==============================] - 28s 697us/step - loss: 0.5750 - acc: 0.7987 - val_loss: 0.9101 - val_acc: 0.6916\n",
            "Epoch 13/25\n",
            "40000/40000 [==============================] - 27s 687us/step - loss: 0.5642 - acc: 0.8045 - val_loss: 0.9107 - val_acc: 0.6869\n",
            "Epoch 14/25\n",
            "  416/40000 [..............................] - ETA: 25s - loss: 0.4338 - acc: 0.8726"
          ],
          "name": "stdout"
        },
        {
          "output_type": "stream",
          "text": [
            "40000/40000 [==============================] - 27s 687us/step - loss: 0.5630 - acc: 0.8029 - val_loss: 0.9413 - val_acc: 0.6801\n",
            "Epoch 15/25\n",
            "27424/40000 [===================>..........] - ETA: 8s - loss: 0.5123 - acc: 0.8217"
          ],
          "name": "stdout"
        },
        {
          "output_type": "stream",
          "text": [
            "40000/40000 [==============================] - 27s 674us/step - loss: 0.5607 - acc: 0.8056 - val_loss: 0.8924 - val_acc: 0.6973\n",
            "Epoch 16/25\n",
            "37824/40000 [===========================>..] - ETA: 1s - loss: 0.5466 - acc: 0.8110"
          ],
          "name": "stdout"
        },
        {
          "output_type": "stream",
          "text": [
            "40000/40000 [==============================] - 27s 674us/step - loss: 0.5533 - acc: 0.8087 - val_loss: 0.9115 - val_acc: 0.7067\n",
            "Epoch 17/25\n",
            "39808/40000 [============================>.] - ETA: 0s - loss: 0.5484 - acc: 0.8104"
          ],
          "name": "stdout"
        },
        {
          "output_type": "stream",
          "text": [
            "40000/40000 [==============================] - 28s 701us/step - loss: 0.5488 - acc: 0.8102 - val_loss: 0.8640 - val_acc: 0.7076\n",
            "Epoch 18/25\n",
            "40000/40000 [==============================] - 28s 710us/step - loss: 0.5408 - acc: 0.8113 - val_loss: 0.8658 - val_acc: 0.7090\n",
            "Epoch 19/25\n",
            "  224/40000 [..............................] - ETA: 26s - loss: 0.4028 - acc: 0.8884"
          ],
          "name": "stdout"
        },
        {
          "output_type": "stream",
          "text": [
            "40000/40000 [==============================] - 27s 667us/step - loss: 0.5363 - acc: 0.8139 - val_loss: 0.9083 - val_acc: 0.6956\n",
            "Epoch 20/25\n",
            "27680/40000 [===================>..........] - ETA: 7s - loss: 0.4884 - acc: 0.8324"
          ],
          "name": "stdout"
        },
        {
          "output_type": "stream",
          "text": [
            "40000/40000 [==============================] - 27s 666us/step - loss: 0.5340 - acc: 0.8151 - val_loss: 0.9072 - val_acc: 0.6995\n",
            "Epoch 21/25\n",
            "37984/40000 [===========================>..] - ETA: 1s - loss: 0.5310 - acc: 0.8181"
          ],
          "name": "stdout"
        },
        {
          "output_type": "stream",
          "text": [
            "40000/40000 [==============================] - 27s 666us/step - loss: 0.5366 - acc: 0.8161 - val_loss: 0.8823 - val_acc: 0.7021\n",
            "Epoch 22/25\n",
            "40000/40000 [==============================] - 27s 687us/step - loss: 0.5326 - acc: 0.8146 - val_loss: 0.8678 - val_acc: 0.7059\n",
            "Epoch 23/25\n",
            "  768/40000 [..............................] - ETA: 26s - loss: 0.4565 - acc: 0.8333"
          ],
          "name": "stdout"
        },
        {
          "output_type": "stream",
          "text": [
            "40000/40000 [==============================] - 27s 680us/step - loss: 0.5245 - acc: 0.8181 - val_loss: 0.8808 - val_acc: 0.6987\n",
            "Epoch 24/25\n",
            "27712/40000 [===================>..........] - ETA: 8s - loss: 0.4739 - acc: 0.8374"
          ],
          "name": "stdout"
        },
        {
          "output_type": "stream",
          "text": [
            "40000/40000 [==============================] - 27s 680us/step - loss: 0.5189 - acc: 0.8227 - val_loss: 0.8971 - val_acc: 0.7046\n",
            "Epoch 25/25\n",
            "38016/40000 [===========================>..] - ETA: 1s - loss: 0.5218 - acc: 0.8177"
          ],
          "name": "stdout"
        },
        {
          "output_type": "stream",
          "text": [
            "40000/40000 [==============================] - 27s 672us/step - loss: 0.5304 - acc: 0.8150 - val_loss: 0.9023 - val_acc: 0.7004\n"
          ],
          "name": "stdout"
        }
      ]
    },
    {
      "metadata": {
        "id": "Tc_H5HNHPXHL",
        "colab_type": "text"
      },
      "cell_type": "markdown",
      "source": [
        "*WE GOT AN ACCURACY of ~70%, this is not a good number.*"
      ]
    },
    {
      "metadata": {
        "id": "0G-hivE4PhGh",
        "colab_type": "text"
      },
      "cell_type": "markdown",
      "source": [
        "***WE BUILD ANOTHER MODEL ,THIS IS MORE DEEP AND WITH MORE LAYERS.***"
      ]
    },
    {
      "metadata": {
        "id": "7ZWAD37Hly3X",
        "colab_type": "code",
        "colab": {}
      },
      "cell_type": "code",
      "source": [
        "from keras.layers.normalization import BatchNormalization"
      ],
      "execution_count": 0,
      "outputs": []
    },
    {
      "metadata": {
        "id": "nEQfSIatWL1T",
        "colab_type": "code",
        "colab": {
          "base_uri": "https://localhost:8080/",
          "height": 1072
        },
        "outputId": "0e4de922-9e12-4728-91b6-75ab829085d4"
      },
      "cell_type": "code",
      "source": [
        "# Create the model\n",
        "model = Sequential()\n",
        "model.add(Conv2D(32, (3, 3), input_shape=(3, 32, 32), activation='relu', padding='same'))\n",
        "model.add(BatchNormalization())\n",
        "model.add(Conv2D(32, (3, 3), activation='relu', padding='same'))\n",
        "model.add(BatchNormalization())\n",
        "model.add(MaxPooling2D(pool_size=(2, 2)))\n",
        "model.add(Dropout(0.2))\n",
        "model.add(Conv2D(64, (3, 3), activation='relu', padding='same'))\n",
        "model.add(BatchNormalization())\n",
        "model.add(Conv2D(64, (3, 3), activation='relu', padding='same'))\n",
        "model.add(BatchNormalization())\n",
        "model.add(MaxPooling2D(pool_size=(2, 2)))\n",
        "model.add(Dropout(0.2))\n",
        "model.add(Conv2D(128, (3, 3), activation='relu', padding='same'))\n",
        "model.add(BatchNormalization())\n",
        "model.add(Conv2D(128, (3, 3), activation='relu', padding='same'))\n",
        "model.add(BatchNormalization())\n",
        "model.add(MaxPooling2D(pool_size=(2, 2)))\n",
        "model.add(Dropout(0.2))\n",
        "\n",
        "model.add(Flatten())\n",
        "model.add(Dropout(0.2))\n",
        "model.add(Dense(1024, activation='relu', kernel_constraint=maxnorm(3)))\n",
        "model.add(Dropout(0.2))\n",
        "model.add(Dense(512, activation='relu', kernel_constraint=maxnorm(3)))\n",
        "model.add(Dropout(0.2))\n",
        "model.add(Dense(num_classes, activation='softmax'))\n",
        "# Compile model\n",
        "epochs = 50\n",
        "lrate = 0.01\n",
        "decay = lrate/epochs\n",
        "nadam=keras.optimizers.Nadam(lr=0.001, beta_1=0.9, beta_2=0.999, epsilon=None, schedule_decay=0.004)\n",
        "model.compile(loss='categorical_crossentropy', optimizer=nadam, metrics=['accuracy'])\n",
        "print(model.summary())"
      ],
      "execution_count": 0,
      "outputs": [
        {
          "output_type": "stream",
          "text": [
            "_________________________________________________________________\n",
            "Layer (type)                 Output Shape              Param #   \n",
            "=================================================================\n",
            "conv2d_76 (Conv2D)           (None, 32, 32, 32)        896       \n",
            "_________________________________________________________________\n",
            "batch_normalization_18 (Batc (None, 32, 32, 32)        128       \n",
            "_________________________________________________________________\n",
            "conv2d_77 (Conv2D)           (None, 32, 32, 32)        9248      \n",
            "_________________________________________________________________\n",
            "batch_normalization_19 (Batc (None, 32, 32, 32)        128       \n",
            "_________________________________________________________________\n",
            "max_pooling2d_29 (MaxPooling (None, 32, 16, 16)        0         \n",
            "_________________________________________________________________\n",
            "dropout_55 (Dropout)         (None, 32, 16, 16)        0         \n",
            "_________________________________________________________________\n",
            "conv2d_78 (Conv2D)           (None, 64, 16, 16)        18496     \n",
            "_________________________________________________________________\n",
            "batch_normalization_20 (Batc (None, 64, 16, 16)        64        \n",
            "_________________________________________________________________\n",
            "conv2d_79 (Conv2D)           (None, 64, 16, 16)        36928     \n",
            "_________________________________________________________________\n",
            "batch_normalization_21 (Batc (None, 64, 16, 16)        64        \n",
            "_________________________________________________________________\n",
            "max_pooling2d_30 (MaxPooling (None, 64, 8, 8)          0         \n",
            "_________________________________________________________________\n",
            "dropout_56 (Dropout)         (None, 64, 8, 8)          0         \n",
            "_________________________________________________________________\n",
            "conv2d_80 (Conv2D)           (None, 128, 8, 8)         73856     \n",
            "_________________________________________________________________\n",
            "batch_normalization_22 (Batc (None, 128, 8, 8)         32        \n",
            "_________________________________________________________________\n",
            "conv2d_81 (Conv2D)           (None, 128, 8, 8)         147584    \n",
            "_________________________________________________________________\n",
            "batch_normalization_23 (Batc (None, 128, 8, 8)         32        \n",
            "_________________________________________________________________\n",
            "max_pooling2d_31 (MaxPooling (None, 128, 4, 4)         0         \n",
            "_________________________________________________________________\n",
            "dropout_57 (Dropout)         (None, 128, 4, 4)         0         \n",
            "_________________________________________________________________\n",
            "flatten_19 (Flatten)         (None, 2048)              0         \n",
            "_________________________________________________________________\n",
            "dropout_58 (Dropout)         (None, 2048)              0         \n",
            "_________________________________________________________________\n",
            "dense_41 (Dense)             (None, 1024)              2098176   \n",
            "_________________________________________________________________\n",
            "dropout_59 (Dropout)         (None, 1024)              0         \n",
            "_________________________________________________________________\n",
            "dense_42 (Dense)             (None, 512)               524800    \n",
            "_________________________________________________________________\n",
            "dropout_60 (Dropout)         (None, 512)               0         \n",
            "_________________________________________________________________\n",
            "dense_43 (Dense)             (None, 10)                5130      \n",
            "=================================================================\n",
            "Total params: 2,915,562\n",
            "Trainable params: 2,915,338\n",
            "Non-trainable params: 224\n",
            "_________________________________________________________________\n",
            "None\n"
          ],
          "name": "stdout"
        }
      ]
    },
    {
      "metadata": {
        "id": "5MbgZR8pPqFC",
        "colab_type": "text"
      },
      "cell_type": "markdown",
      "source": [
        "We save each epoch value using the below code."
      ]
    },
    {
      "metadata": {
        "id": "iT70o4P-9VjG",
        "colab_type": "code",
        "colab": {}
      },
      "cell_type": "code",
      "source": [
        "class AccuracyHistory(keras.callbacks.Callback):\n",
        "    def on_train_begin(self, logs={}):\n",
        "        self.acc = []\n",
        "\n",
        "    def on_epoch_end(self, batch, logs={}):\n",
        "        self.acc.append(logs.get('acc'))\n",
        "\n",
        "history = AccuracyHistory()"
      ],
      "execution_count": 0,
      "outputs": []
    },
    {
      "metadata": {
        "id": "bIfFBD5OPzCX",
        "colab_type": "text"
      },
      "cell_type": "markdown",
      "source": [
        "***FIT THE MODEL***"
      ]
    },
    {
      "metadata": {
        "id": "DO1x5qfH6_Hk",
        "colab_type": "code",
        "colab": {
          "base_uri": "https://localhost:8080/",
          "height": 1874
        },
        "outputId": "bad8025c-23ed-42a9-da48-5c43e8f27062"
      },
      "cell_type": "code",
      "source": [
        "# Fit the model\n",
        "modeldetais = model.fit(X_train, y_train, validation_data=(X_valid, y_valid), epochs=epochs, batch_size=32,callbacks=[history])\n",
        "# Final evaluation of the model\n",
        "#scores = model.evaluate(X_test, y_test, verbose=0)\n",
        "#print(\"Accuracy: %.2f%%\" % (scores[1]*100))"
      ],
      "execution_count": 0,
      "outputs": [
        {
          "output_type": "stream",
          "text": [
            "Train on 40000 samples, validate on 10000 samples\n",
            "Epoch 1/50\n",
            "22208/40000 [===============>..............] - ETA: 32s - loss: 1.8998 - acc: 0.3106"
          ],
          "name": "stdout"
        },
        {
          "output_type": "stream",
          "text": [
            "40000/40000 [==============================] - 74s 2ms/step - loss: 1.6922 - acc: 0.3859 - val_loss: 1.1640 - val_acc: 0.5800\n",
            "Epoch 2/50\n",
            " 8128/40000 [=====>........................] - ETA: 51s - loss: 1.2395 - acc: 0.5502"
          ],
          "name": "stdout"
        },
        {
          "output_type": "stream",
          "text": [
            "40000/40000 [==============================] - 70s 2ms/step - loss: 1.1331 - acc: 0.5952 - val_loss: 0.9238 - val_acc: 0.6797\n",
            "Epoch 3/50\n",
            " 3712/40000 [=>............................] - ETA: 54s - loss: 0.9625 - acc: 0.6657"
          ],
          "name": "stdout"
        },
        {
          "output_type": "stream",
          "text": [
            "40000/40000 [==============================] - 62s 2ms/step - loss: 0.9124 - acc: 0.6825 - val_loss: 0.7367 - val_acc: 0.7425\n",
            "Epoch 4/50\n",
            "11712/40000 [=======>......................] - ETA: 40s - loss: 0.7875 - acc: 0.7297"
          ],
          "name": "stdout"
        },
        {
          "output_type": "stream",
          "text": [
            "40000/40000 [==============================] - 61s 2ms/step - loss: 0.7816 - acc: 0.7294 - val_loss: 0.7510 - val_acc: 0.7387\n",
            "Epoch 5/50\n",
            "16288/40000 [===========>..................] - ETA: 33s - loss: 0.6828 - acc: 0.7633"
          ],
          "name": "stdout"
        },
        {
          "output_type": "stream",
          "text": [
            "40000/40000 [==============================] - 59s 1ms/step - loss: 0.6881 - acc: 0.7626 - val_loss: 0.6410 - val_acc: 0.7775\n",
            "Epoch 6/50\n",
            "19232/40000 [=============>................] - ETA: 28s - loss: 0.6083 - acc: 0.7870"
          ],
          "name": "stdout"
        },
        {
          "output_type": "stream",
          "text": [
            "40000/40000 [==============================] - 57s 1ms/step - loss: 0.6145 - acc: 0.7859 - val_loss: 0.6347 - val_acc: 0.7834\n",
            "Epoch 7/50\n",
            "20736/40000 [==============>...............] - ETA: 25s - loss: 0.5514 - acc: 0.8083"
          ],
          "name": "stdout"
        },
        {
          "output_type": "stream",
          "text": [
            "40000/40000 [==============================] - 57s 1ms/step - loss: 0.5566 - acc: 0.8084 - val_loss: 0.5843 - val_acc: 0.7989\n",
            "Epoch 8/50\n",
            "20960/40000 [==============>...............] - ETA: 26s - loss: 0.5010 - acc: 0.8251"
          ],
          "name": "stdout"
        },
        {
          "output_type": "stream",
          "text": [
            "40000/40000 [==============================] - 57s 1ms/step - loss: 0.5038 - acc: 0.8240 - val_loss: 0.6357 - val_acc: 0.7908\n",
            "Epoch 9/50\n",
            "21248/40000 [==============>...............] - ETA: 25s - loss: 0.4475 - acc: 0.8447"
          ],
          "name": "stdout"
        },
        {
          "output_type": "stream",
          "text": [
            "40000/40000 [==============================] - 57s 1ms/step - loss: 0.4661 - acc: 0.8380 - val_loss: 0.5705 - val_acc: 0.8073\n",
            "Epoch 10/50\n",
            "21216/40000 [==============>...............] - ETA: 25s - loss: 0.4066 - acc: 0.8588"
          ],
          "name": "stdout"
        },
        {
          "output_type": "stream",
          "text": [
            "40000/40000 [==============================] - 57s 1ms/step - loss: 0.4253 - acc: 0.8511 - val_loss: 0.5393 - val_acc: 0.8182\n",
            "Epoch 11/50\n",
            "21120/40000 [==============>...............] - ETA: 25s - loss: 0.3744 - acc: 0.8696"
          ],
          "name": "stdout"
        },
        {
          "output_type": "stream",
          "text": [
            "40000/40000 [==============================] - 57s 1ms/step - loss: 0.3922 - acc: 0.8638 - val_loss: 0.5554 - val_acc: 0.8177\n",
            "Epoch 12/50\n",
            "20768/40000 [==============>...............] - ETA: 27s - loss: 0.3533 - acc: 0.8735"
          ],
          "name": "stdout"
        },
        {
          "output_type": "stream",
          "text": [
            "40000/40000 [==============================] - 60s 1ms/step - loss: 0.3696 - acc: 0.8677 - val_loss: 0.5310 - val_acc: 0.8266\n",
            "Epoch 13/50\n",
            "19968/40000 [=============>................] - ETA: 28s - loss: 0.3155 - acc: 0.8881"
          ],
          "name": "stdout"
        },
        {
          "output_type": "stream",
          "text": [
            "40000/40000 [==============================] - 60s 2ms/step - loss: 0.3378 - acc: 0.8811 - val_loss: 0.5117 - val_acc: 0.8309\n",
            "Epoch 14/50\n",
            "19360/40000 [=============>................] - ETA: 29s - loss: 0.2961 - acc: 0.8966"
          ],
          "name": "stdout"
        },
        {
          "output_type": "stream",
          "text": [
            "40000/40000 [==============================] - 61s 2ms/step - loss: 0.3208 - acc: 0.8878 - val_loss: 0.5182 - val_acc: 0.8308\n",
            "Epoch 15/50\n",
            "19520/40000 [=============>................] - ETA: 29s - loss: 0.2748 - acc: 0.9050"
          ],
          "name": "stdout"
        },
        {
          "output_type": "stream",
          "text": [
            "40000/40000 [==============================] - 60s 2ms/step - loss: 0.2980 - acc: 0.8967 - val_loss: 0.5483 - val_acc: 0.8266\n",
            "Epoch 16/50\n",
            "19168/40000 [=============>................] - ETA: 29s - loss: 0.2611 - acc: 0.9063"
          ],
          "name": "stdout"
        },
        {
          "output_type": "stream",
          "text": [
            "40000/40000 [==============================] - 60s 2ms/step - loss: 0.2816 - acc: 0.9007 - val_loss: 0.5471 - val_acc: 0.8290\n",
            "Epoch 17/50\n",
            "15104/40000 [==========>...................] - ETA: 37s - loss: 0.2419 - acc: 0.9153"
          ],
          "name": "stdout"
        },
        {
          "output_type": "stream",
          "text": [
            "40000/40000 [==============================] - 65s 2ms/step - loss: 0.2629 - acc: 0.9088 - val_loss: 0.5202 - val_acc: 0.8347\n",
            "Epoch 18/50\n",
            "10560/40000 [======>.......................] - ETA: 43s - loss: 0.2297 - acc: 0.9174"
          ],
          "name": "stdout"
        },
        {
          "output_type": "stream",
          "text": [
            "40000/40000 [==============================] - 63s 2ms/step - loss: 0.2594 - acc: 0.9091 - val_loss: 0.5054 - val_acc: 0.8355\n",
            "Epoch 19/50\n",
            "12000/40000 [========>.....................] - ETA: 41s - loss: 0.2022 - acc: 0.9285"
          ],
          "name": "stdout"
        },
        {
          "output_type": "stream",
          "text": [
            "40000/40000 [==============================] - 62s 2ms/step - loss: 0.2416 - acc: 0.9169 - val_loss: 0.5607 - val_acc: 0.8237\n",
            "Epoch 20/50\n",
            "16160/40000 [===========>..................] - ETA: 32s - loss: 0.2125 - acc: 0.9251"
          ],
          "name": "stdout"
        },
        {
          "output_type": "stream",
          "text": [
            "40000/40000 [==============================] - 59s 1ms/step - loss: 0.2345 - acc: 0.9166 - val_loss: 0.5679 - val_acc: 0.8284\n",
            "Epoch 21/50\n",
            "18816/40000 [=============>................] - ETA: 29s - loss: 0.2101 - acc: 0.9273"
          ],
          "name": "stdout"
        },
        {
          "output_type": "stream",
          "text": [
            "40000/40000 [==============================] - 59s 1ms/step - loss: 0.2236 - acc: 0.9216 - val_loss: 0.5148 - val_acc: 0.8369\n",
            "Epoch 22/50\n",
            "19520/40000 [=============>................] - ETA: 29s - loss: 0.1919 - acc: 0.9338"
          ],
          "name": "stdout"
        },
        {
          "output_type": "stream",
          "text": [
            "40000/40000 [==============================] - 62s 2ms/step - loss: 0.2141 - acc: 0.9256 - val_loss: 0.5252 - val_acc: 0.8397\n",
            "Epoch 23/50\n",
            " 8832/40000 [=====>........................] - ETA: 53s - loss: 0.1831 - acc: 0.9373"
          ],
          "name": "stdout"
        },
        {
          "output_type": "stream",
          "text": [
            "40000/40000 [==============================] - 71s 2ms/step - loss: 0.2057 - acc: 0.9282 - val_loss: 0.5239 - val_acc: 0.8377\n",
            "Epoch 24/50\n",
            " 4832/40000 [==>...........................] - ETA: 51s - loss: 0.1717 - acc: 0.9427"
          ],
          "name": "stdout"
        },
        {
          "output_type": "stream",
          "text": [
            "40000/40000 [==============================] - 62s 2ms/step - loss: 0.2011 - acc: 0.9304 - val_loss: 0.5335 - val_acc: 0.8357\n",
            "Epoch 25/50\n",
            "12256/40000 [========>.....................] - ETA: 40s - loss: 0.1745 - acc: 0.9385"
          ],
          "name": "stdout"
        },
        {
          "output_type": "stream",
          "text": [
            "40000/40000 [==============================] - 62s 2ms/step - loss: 0.1951 - acc: 0.9311 - val_loss: 0.5301 - val_acc: 0.8441\n",
            "Epoch 26/50\n",
            "15968/40000 [==========>...................] - ETA: 35s - loss: 0.1796 - acc: 0.9392"
          ],
          "name": "stdout"
        },
        {
          "output_type": "stream",
          "text": [
            "40000/40000 [==============================] - 62s 2ms/step - loss: 0.1957 - acc: 0.9318 - val_loss: 0.5515 - val_acc: 0.8379\n",
            "Epoch 27/50\n",
            "16384/40000 [===========>..................] - ETA: 34s - loss: 0.1628 - acc: 0.9407"
          ],
          "name": "stdout"
        },
        {
          "output_type": "stream",
          "text": [
            "40000/40000 [==============================] - 62s 2ms/step - loss: 0.1864 - acc: 0.9338 - val_loss: 0.5774 - val_acc: 0.8409\n",
            "Epoch 28/50\n",
            "16096/40000 [===========>..................] - ETA: 34s - loss: 0.1537 - acc: 0.9476"
          ],
          "name": "stdout"
        },
        {
          "output_type": "stream",
          "text": [
            "40000/40000 [==============================] - 65s 2ms/step - loss: 0.1794 - acc: 0.9377 - val_loss: 0.5474 - val_acc: 0.8362\n",
            "Epoch 29/50\n",
            "13184/40000 [========>.....................] - ETA: 38s - loss: 0.1516 - acc: 0.9480"
          ],
          "name": "stdout"
        },
        {
          "output_type": "stream",
          "text": [
            "40000/40000 [==============================] - 60s 2ms/step - loss: 0.1760 - acc: 0.9402 - val_loss: 0.5465 - val_acc: 0.8372\n",
            "Epoch 30/50\n",
            "17472/40000 [============>.................] - ETA: 31s - loss: 0.1505 - acc: 0.9471"
          ],
          "name": "stdout"
        },
        {
          "output_type": "stream",
          "text": [
            "40000/40000 [==============================] - 59s 1ms/step - loss: 0.1725 - acc: 0.9396 - val_loss: 0.5657 - val_acc: 0.8388\n",
            "Epoch 31/50\n",
            "19168/40000 [=============>................] - ETA: 29s - loss: 0.1586 - acc: 0.9465"
          ],
          "name": "stdout"
        },
        {
          "output_type": "stream",
          "text": [
            "40000/40000 [==============================] - 59s 1ms/step - loss: 0.1753 - acc: 0.9397 - val_loss: 0.5516 - val_acc: 0.8448\n",
            "Epoch 32/50\n",
            "19872/40000 [=============>................] - ETA: 28s - loss: 0.1435 - acc: 0.9501"
          ],
          "name": "stdout"
        },
        {
          "output_type": "stream",
          "text": [
            "40000/40000 [==============================] - 59s 1ms/step - loss: 0.1631 - acc: 0.9440 - val_loss: 0.5765 - val_acc: 0.8449\n",
            "Epoch 33/50\n",
            "20160/40000 [==============>...............] - ETA: 27s - loss: 0.1507 - acc: 0.9477"
          ],
          "name": "stdout"
        },
        {
          "output_type": "stream",
          "text": [
            "40000/40000 [==============================] - 59s 1ms/step - loss: 0.1648 - acc: 0.9438 - val_loss: 0.6031 - val_acc: 0.8444\n",
            "Epoch 34/50\n",
            "20320/40000 [==============>...............] - ETA: 27s - loss: 0.1474 - acc: 0.9512"
          ],
          "name": "stdout"
        },
        {
          "output_type": "stream",
          "text": [
            "40000/40000 [==============================] - 59s 1ms/step - loss: 0.1645 - acc: 0.9446 - val_loss: 0.5807 - val_acc: 0.8397\n",
            "Epoch 35/50\n",
            "20576/40000 [==============>...............] - ETA: 27s - loss: 0.1409 - acc: 0.9531"
          ],
          "name": "stdout"
        },
        {
          "output_type": "stream",
          "text": [
            "40000/40000 [==============================] - 59s 1ms/step - loss: 0.1571 - acc: 0.9469 - val_loss: 0.5835 - val_acc: 0.8470\n",
            "Epoch 36/50\n",
            "20512/40000 [==============>...............] - ETA: 27s - loss: 0.1395 - acc: 0.9518"
          ],
          "name": "stdout"
        },
        {
          "output_type": "stream",
          "text": [
            "40000/40000 [==============================] - 59s 1ms/step - loss: 0.1556 - acc: 0.9458 - val_loss: 0.5618 - val_acc: 0.8368\n",
            "Epoch 37/50\n",
            "20288/40000 [==============>...............] - ETA: 27s - loss: 0.1417 - acc: 0.9504"
          ],
          "name": "stdout"
        },
        {
          "output_type": "stream",
          "text": [
            "40000/40000 [==============================] - 59s 1ms/step - loss: 0.1529 - acc: 0.9474 - val_loss: 0.5606 - val_acc: 0.8494\n",
            "Epoch 38/50\n",
            "19136/40000 [=============>................] - ETA: 29s - loss: 0.1383 - acc: 0.9528"
          ],
          "name": "stdout"
        },
        {
          "output_type": "stream",
          "text": [
            "40000/40000 [==============================] - 62s 2ms/step - loss: 0.1511 - acc: 0.9482 - val_loss: 0.5702 - val_acc: 0.8406\n",
            "Epoch 39/50\n",
            "15872/40000 [==========>...................] - ETA: 35s - loss: 0.1309 - acc: 0.9546"
          ],
          "name": "stdout"
        },
        {
          "output_type": "stream",
          "text": [
            "40000/40000 [==============================] - 63s 2ms/step - loss: 0.1512 - acc: 0.9477 - val_loss: 0.5635 - val_acc: 0.8444\n",
            "Epoch 40/50\n",
            "14272/40000 [=========>....................] - ETA: 38s - loss: 0.1340 - acc: 0.9521"
          ],
          "name": "stdout"
        },
        {
          "output_type": "stream",
          "text": [
            "40000/40000 [==============================] - 63s 2ms/step - loss: 0.1494 - acc: 0.9483 - val_loss: 0.5708 - val_acc: 0.8497\n",
            "Epoch 41/50\n",
            "13696/40000 [=========>....................] - ETA: 39s - loss: 0.1308 - acc: 0.9557"
          ],
          "name": "stdout"
        },
        {
          "output_type": "stream",
          "text": [
            "40000/40000 [==============================] - 63s 2ms/step - loss: 0.1468 - acc: 0.9496 - val_loss: 0.5723 - val_acc: 0.8473\n",
            "Epoch 42/50\n",
            "13920/40000 [=========>....................] - ETA: 38s - loss: 0.1265 - acc: 0.9590"
          ],
          "name": "stdout"
        },
        {
          "output_type": "stream",
          "text": [
            "40000/40000 [==============================] - 63s 2ms/step - loss: 0.1440 - acc: 0.9509 - val_loss: 0.5793 - val_acc: 0.8432\n",
            "Epoch 43/50\n",
            "13280/40000 [========>.....................] - ETA: 39s - loss: 0.1313 - acc: 0.9549"
          ],
          "name": "stdout"
        },
        {
          "output_type": "stream",
          "text": [
            "40000/40000 [==============================] - 63s 2ms/step - loss: 0.1510 - acc: 0.9492 - val_loss: 0.5375 - val_acc: 0.8528\n",
            "Epoch 44/50\n",
            "13536/40000 [=========>....................] - ETA: 39s - loss: 0.1226 - acc: 0.9574"
          ],
          "name": "stdout"
        },
        {
          "output_type": "stream",
          "text": [
            "40000/40000 [==============================] - 63s 2ms/step - loss: 0.1421 - acc: 0.9501 - val_loss: 0.5297 - val_acc: 0.8475\n",
            "Epoch 45/50\n",
            "13184/40000 [========>.....................] - ETA: 40s - loss: 0.1172 - acc: 0.9593"
          ],
          "name": "stdout"
        },
        {
          "output_type": "stream",
          "text": [
            "40000/40000 [==============================] - 67s 2ms/step - loss: 0.1396 - acc: 0.9527 - val_loss: 0.5733 - val_acc: 0.8491\n",
            "Epoch 46/50\n",
            " 9760/40000 [======>.......................] - ETA: 42s - loss: 0.1146 - acc: 0.9599"
          ],
          "name": "stdout"
        },
        {
          "output_type": "stream",
          "text": [
            "40000/40000 [==============================] - 59s 1ms/step - loss: 0.1373 - acc: 0.9527 - val_loss: 0.5543 - val_acc: 0.8470\n",
            "Epoch 47/50\n",
            "16448/40000 [===========>..................] - ETA: 32s - loss: 0.1219 - acc: 0.9582"
          ],
          "name": "stdout"
        },
        {
          "output_type": "stream",
          "text": [
            "40000/40000 [==============================] - 58s 1ms/step - loss: 0.1400 - acc: 0.9516 - val_loss: 0.5712 - val_acc: 0.8454\n",
            "Epoch 48/50\n",
            "19392/40000 [=============>................] - ETA: 27s - loss: 0.1250 - acc: 0.9569"
          ],
          "name": "stdout"
        },
        {
          "output_type": "stream",
          "text": [
            "40000/40000 [==============================] - 57s 1ms/step - loss: 0.1364 - acc: 0.9530 - val_loss: 0.5348 - val_acc: 0.8498\n",
            "Epoch 49/50\n",
            "20416/40000 [==============>...............] - ETA: 26s - loss: 0.1166 - acc: 0.9589"
          ],
          "name": "stdout"
        },
        {
          "output_type": "stream",
          "text": [
            "40000/40000 [==============================] - 58s 1ms/step - loss: 0.1326 - acc: 0.9532 - val_loss: 0.5475 - val_acc: 0.8463\n",
            "Epoch 50/50\n",
            "20192/40000 [==============>...............] - ETA: 27s - loss: 0.1200 - acc: 0.9585"
          ],
          "name": "stdout"
        },
        {
          "output_type": "stream",
          "text": [
            "40000/40000 [==============================] - 59s 1ms/step - loss: 0.1352 - acc: 0.9535 - val_loss: 0.5291 - val_acc: 0.8502\n"
          ],
          "name": "stdout"
        }
      ]
    },
    {
      "metadata": {
        "id": "nc1wJyaFP3NS",
        "colab_type": "text"
      },
      "cell_type": "markdown",
      "source": [
        "***WE GOT AN ACCURACY OF ~84% which is really good number,but we also want more epochs to get an higher accuracy.***"
      ]
    },
    {
      "metadata": {
        "id": "MkVv7k02Mlko",
        "colab_type": "code",
        "colab": {}
      },
      "cell_type": "code",
      "source": [
        "import matplotlib.pyplot as plt"
      ],
      "execution_count": 0,
      "outputs": []
    },
    {
      "metadata": {
        "id": "3B9xxotS7M3Q",
        "colab_type": "code",
        "colab": {
          "base_uri": "https://localhost:8080/",
          "height": 361
        },
        "outputId": "84c24bfd-4a26-4720-980d-36e9e21bd56a"
      },
      "cell_type": "code",
      "source": [
        "plt.plot(range(1,26), history.acc)\n",
        "plt.xlabel('Epochs')\n",
        "plt.ylabel('Accuracy')\n",
        "plt.show()"
      ],
      "execution_count": 0,
      "outputs": [
        {
          "output_type": "display_data",
          "data": {
            "image/png": "[encoded data removed]",
            "text/plain": [
              "<matplotlib.figure.Figure at 0x7f00e7d3a860>"
            ]
          },
          "metadata": {
            "tags": []
          }
        }
      ]
    },
    {
      "metadata": {
        "id": "h0_tuoCTWS6J",
        "colab_type": "code",
        "colab": {
          "resources": {
            "http://localhost:8080/nbextensions/google.colab/files.js": {
              "data": "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",
              "ok": true,
              "headers": [
                [
                  "content-type",
                  "application/javascript"
                ]
              ],
              "status": 200,
              "status_text": ""
            }
          },
          "base_uri": "https://localhost:8080/",
          "height": 72
        },
        "outputId": "7b3db5c1-7235-4702-8c70-0695b1d139b5"
      },
      "cell_type": "code",
      "source": [
        "from google.colab import files\n",
        "src = list(files.upload().values())[0]\n",
        "open('mylib.py','wb').write(src)\n",
        "import mylib"
      ],
      "execution_count": 31,
      "outputs": [
        {
          "output_type": "display_data",
          "data": {
            "text/html": [
              "\n",
              "     <input type=\"file\" id=\"files-46eac572-e7c2-46e2-aa26-1e3e9a5d31ea\" name=\"files[]\" multiple disabled />\n",
              "     <output id=\"result-46eac572-e7c2-46e2-aa26-1e3e9a5d31ea\">\n",
              "      Upload widget is only available when the cell has been executed in the\n",
              "      current browser session. Please rerun this cell to enable.\n",
              "      </output>\n",
              "      <script src=\"/nbextensions/google.colab/files.js\"></script> "
            ],
            "text/plain": [
              "<IPython.core.display.HTML object>"
            ]
          },
          "metadata": {
            "tags": []
          }
        },
        {
          "output_type": "stream",
          "text": [
            "Saving helper.py to helper.py\n"
          ],
          "name": "stdout"
        }
      ]
    },
    {
      "metadata": {
        "id": "HkWFdmEjVd_o",
        "colab_type": "code",
        "colab": {}
      },
      "cell_type": "code",
      "source": [
        "from helper import get_class_names, get_train_data, get_test_data, plot_images\n",
        "from helper import plot_model, predict_classes, visualize_errors"
      ],
      "execution_count": 0,
      "outputs": []
    },
    {
      "metadata": {
        "id": "35yKToS2UVYw",
        "colab_type": "code",
        "colab": {
          "base_uri": "https://localhost:8080/",
          "height": 349
        },
        "outputId": "c18f9f9f-f139-4126-8bcf-b51eba745c1b"
      },
      "cell_type": "code",
      "source": [
        "plot_model(modeldetais)"
      ],
      "execution_count": 0,
      "outputs": [
        {
          "output_type": "display_data",
          "data": {
            "image/png": "[encoded data removed]",
            "text/plain": [
              "<matplotlib.figure.Figure at 0x7f00e7e031d0>"
            ]
          },
          "metadata": {
            "tags": []
          }
        }
      ]
    },
    {
      "metadata": {
        "id": "3VgZfCnjzlyv",
        "colab_type": "text"
      },
      "cell_type": "markdown",
      "source": [
        "3rd Model"
      ]
    },
    {
      "metadata": {
        "id": "mZApNSAG18D0",
        "colab_type": "code",
        "colab": {}
      },
      "cell_type": "code",
      "source": [
        "from keras import regularizers"
      ],
      "execution_count": 0,
      "outputs": []
    },
    {
      "metadata": {
        "id": "ocEIP5oZzoNx",
        "colab_type": "code",
        "colab": {
          "base_uri": "https://localhost:8080/",
          "height": 890
        },
        "outputId": "5def722c-7e6d-4778-e70d-9084115b3160"
      },
      "cell_type": "code",
      "source": [
        "def lr_schedule(epoch):\n",
        "    lrate = 0.001\n",
        "    if epoch > 75:\n",
        "        lrate = 0.0005\n",
        "    elif epoch > 100:\n",
        "        lrate = 0.0003        \n",
        "    return lrate\n",
        "\n",
        "\n",
        "\n",
        "# Create the model\n",
        "weight_decay = 1e-4\n",
        "model = Sequential()\n",
        "model.add(Conv2D(32, (3, 3), input_shape=(3, 32, 32),kernel_regularizer=regularizers.l2(weight_decay), activation='relu', padding='same'))\n",
        "model.add(BatchNormalization())\n",
        "model.add(Conv2D(32, (3, 3), activation='relu',kernel_regularizer=regularizers.l2(weight_decay), padding='same'))\n",
        "model.add(BatchNormalization())\n",
        "model.add(MaxPooling2D(pool_size=(2, 2)))\n",
        "model.add(Dropout(0.2))\n",
        "\n",
        "model.add(Conv2D(64, (3, 3), activation='relu',kernel_regularizer=regularizers.l2(weight_decay), padding='same'))\n",
        "model.add(BatchNormalization())\n",
        "model.add(Conv2D(64, (3, 3), activation='relu', kernel_regularizer=regularizers.l2(weight_decay),padding='same'))\n",
        "model.add(BatchNormalization())\n",
        "model.add(MaxPooling2D(pool_size=(2, 2)))\n",
        "model.add(Dropout(0.3))\n",
        "\n",
        "model.add(Conv2D(128, (3, 3), activation='relu',kernel_regularizer=regularizers.l2(weight_decay), padding='same'))\n",
        "model.add(BatchNormalization())\n",
        "model.add(Conv2D(128, (3, 3), activation='relu',kernel_regularizer=regularizers.l2(weight_decay), padding='same'))\n",
        "model.add(BatchNormalization())\n",
        "model.add(MaxPooling2D(pool_size=(2, 2)))\n",
        "model.add(Dropout(0.4))\n",
        "\n",
        "model.add(Flatten())\n",
        "model.add(Dense(num_classes, activation='softmax'))\n",
        "\n",
        "\n",
        "\n",
        "#data augmentation\n",
        "datagen = ImageDataGenerator(\n",
        "    rotation_range=15,\n",
        "    width_shift_range=0.1,\n",
        "    height_shift_range=0.1,\n",
        "    horizontal_flip=True,\n",
        "    )\n",
        "datagen.fit(X_train)\n",
        "\n",
        "# Compile model\n",
        "epochs = 50\n",
        "\n",
        "opt_rms = keras.optimizers.rmsprop(lr=0.001,decay=1e-6)\n",
        "model.compile(loss='categorical_crossentropy', optimizer=opt_rms, metrics=['accuracy'])\n",
        "print(model.summary())"
      ],
      "execution_count": 0,
      "outputs": [
        {
          "output_type": "stream",
          "text": [
            "_________________________________________________________________\n",
            "Layer (type)                 Output Shape              Param #   \n",
            "=================================================================\n",
            "conv2d_2 (Conv2D)            (None, 32, 32, 32)        896       \n",
            "_________________________________________________________________\n",
            "batch_normalization_1 (Batch (None, 32, 32, 32)        128       \n",
            "_________________________________________________________________\n",
            "conv2d_3 (Conv2D)            (None, 32, 32, 32)        9248      \n",
            "_________________________________________________________________\n",
            "batch_normalization_2 (Batch (None, 32, 32, 32)        128       \n",
            "_________________________________________________________________\n",
            "max_pooling2d_1 (MaxPooling2 (None, 32, 16, 16)        0         \n",
            "_________________________________________________________________\n",
            "dropout_1 (Dropout)          (None, 32, 16, 16)        0         \n",
            "_________________________________________________________________\n",
            "conv2d_4 (Conv2D)            (None, 64, 16, 16)        18496     \n",
            "_________________________________________________________________\n",
            "batch_normalization_3 (Batch (None, 64, 16, 16)        64        \n",
            "_________________________________________________________________\n",
            "conv2d_5 (Conv2D)            (None, 64, 16, 16)        36928     \n",
            "_________________________________________________________________\n",
            "batch_normalization_4 (Batch (None, 64, 16, 16)        64        \n",
            "_________________________________________________________________\n",
            "max_pooling2d_2 (MaxPooling2 (None, 64, 8, 8)          0         \n",
            "_________________________________________________________________\n",
            "dropout_2 (Dropout)          (None, 64, 8, 8)          0         \n",
            "_________________________________________________________________\n",
            "conv2d_6 (Conv2D)            (None, 128, 8, 8)         73856     \n",
            "_________________________________________________________________\n",
            "batch_normalization_5 (Batch (None, 128, 8, 8)         32        \n",
            "_________________________________________________________________\n",
            "conv2d_7 (Conv2D)            (None, 128, 8, 8)         147584    \n",
            "_________________________________________________________________\n",
            "batch_normalization_6 (Batch (None, 128, 8, 8)         32        \n",
            "_________________________________________________________________\n",
            "max_pooling2d_3 (MaxPooling2 (None, 128, 4, 4)         0         \n",
            "_________________________________________________________________\n",
            "dropout_3 (Dropout)          (None, 128, 4, 4)         0         \n",
            "_________________________________________________________________\n",
            "flatten_1 (Flatten)          (None, 2048)              0         \n",
            "_________________________________________________________________\n",
            "dense_1 (Dense)              (None, 10)                20490     \n",
            "=================================================================\n",
            "Total params: 307,946\n",
            "Trainable params: 307,722\n",
            "Non-trainable params: 224\n",
            "_________________________________________________________________\n",
            "None\n"
          ],
          "name": "stdout"
        }
      ]
    },
    {
      "metadata": {
        "id": "st6l7LeUzv2i",
        "colab_type": "code",
        "colab": {}
      },
      "cell_type": "code",
      "source": [
        "class AccuracyHistory(keras.callbacks.Callback):\n",
        "    def on_train_begin(self, logs={}):\n",
        "        self.acc = []\n",
        "\n",
        "    def on_epoch_end(self, batch, logs={}):\n",
        "        self.acc.append(logs.get('acc'))\n",
        "\n",
        "history = AccuracyHistory()"
      ],
      "execution_count": 0,
      "outputs": []
    },
    {
      "metadata": {
        "id": "Oa8VyQPO1xlk",
        "colab_type": "code",
        "colab": {
          "base_uri": "https://localhost:8080/",
          "height": 4619
        },
        "outputId": "4466ff7d-8c1e-447c-b253-aa7e7312782f"
      },
      "cell_type": "code",
      "source": [
        "# Fit the model\n",
        "modeldetais = model.fit(X_train, y_train, validation_data=(X_valid, y_valid), epochs=125, batch_size=64,callbacks=[history])"
      ],
      "execution_count": 0,
      "outputs": [
        {
          "output_type": "stream",
          "text": [
            "WARNING:tensorflow:Variable *= will be deprecated. Use variable.assign_mul if you want assignment to the variable value or 'x = x * y' if you want a new python Tensor object.\n",
            "Train on 40000 samples, validate on 10000 samples\n",
            "Epoch 1/125\n",
            "20160/40000 [==============>...............] - ETA: 17s - loss: 2.3011 - acc: 0.2810"
          ],
          "name": "stdout"
        },
        {
          "output_type": "stream",
          "text": [
            "40000/40000 [==============================] - 37s 914us/step - loss: 1.9229 - acc: 0.3682 - val_loss: 1.3551 - val_acc: 0.5334\n",
            "Epoch 2/125\n",
            "40000/40000 [==============================] - 27s 675us/step - loss: 1.2348 - acc: 0.5801 - val_loss: 1.0636 - val_acc: 0.6428\n",
            "Epoch 3/125\n",
            " 1344/40000 [>.............................] - ETA: 24s - loss: 1.0146 - acc: 0.6741"
          ],
          "name": "stdout"
        },
        {
          "output_type": "stream",
          "text": [
            "40000/40000 [==============================] - 27s 680us/step - loss: 1.0185 - acc: 0.6648 - val_loss: 1.0961 - val_acc: 0.6479\n",
            "Epoch 4/125\n",
            "40000/40000 [==============================] - 27s 682us/step - loss: 0.8987 - acc: 0.7132 - val_loss: 0.8812 - val_acc: 0.7262\n",
            "Epoch 5/125\n",
            " 1344/40000 [>.............................] - ETA: 24s - loss: 0.8625 - acc: 0.7359"
          ],
          "name": "stdout"
        },
        {
          "output_type": "stream",
          "text": [
            "40000/40000 [==============================] - 27s 681us/step - loss: 0.8246 - acc: 0.7429 - val_loss: 0.8619 - val_acc: 0.7314\n",
            "Epoch 6/125\n",
            "40000/40000 [==============================] - 27s 679us/step - loss: 0.7700 - acc: 0.7644 - val_loss: 0.7386 - val_acc: 0.7769\n",
            "Epoch 7/125\n",
            " 1472/40000 [>.............................] - ETA: 24s - loss: 0.7393 - acc: 0.7724"
          ],
          "name": "stdout"
        },
        {
          "output_type": "stream",
          "text": [
            "40000/40000 [==============================] - 27s 679us/step - loss: 0.7294 - acc: 0.7813 - val_loss: 0.7686 - val_acc: 0.7721\n",
            "Epoch 8/125\n",
            "40000/40000 [==============================] - 27s 679us/step - loss: 0.6971 - acc: 0.7956 - val_loss: 0.7373 - val_acc: 0.7808\n",
            "Epoch 9/125\n",
            " 1344/40000 [>.............................] - ETA: 24s - loss: 0.6334 - acc: 0.8177"
          ],
          "name": "stdout"
        },
        {
          "output_type": "stream",
          "text": [
            "40000/40000 [==============================] - 27s 679us/step - loss: 0.6676 - acc: 0.8054 - val_loss: 0.7289 - val_acc: 0.7958\n",
            "Epoch 10/125\n",
            "40000/40000 [==============================] - 27s 679us/step - loss: 0.6438 - acc: 0.8170 - val_loss: 0.6815 - val_acc: 0.8118\n",
            "Epoch 11/125\n",
            " 1344/40000 [>.............................] - ETA: 24s - loss: 0.6433 - acc: 0.8132"
          ],
          "name": "stdout"
        },
        {
          "output_type": "stream",
          "text": [
            "40000/40000 [==============================] - 27s 682us/step - loss: 0.6241 - acc: 0.8270 - val_loss: 0.7003 - val_acc: 0.8049\n",
            "Epoch 12/125\n",
            "40000/40000 [==============================] - 27s 681us/step - loss: 0.6043 - acc: 0.8334 - val_loss: 0.7050 - val_acc: 0.8121\n",
            "Epoch 13/125\n",
            " 1216/40000 [..............................] - ETA: 24s - loss: 0.5366 - acc: 0.8701"
          ],
          "name": "stdout"
        },
        {
          "output_type": "stream",
          "text": [
            "40000/40000 [==============================] - 27s 681us/step - loss: 0.5848 - acc: 0.8429 - val_loss: 0.6810 - val_acc: 0.8149\n",
            "Epoch 14/125\n",
            "40000/40000 [==============================] - 27s 681us/step - loss: 0.5742 - acc: 0.8498 - val_loss: 0.7163 - val_acc: 0.8082\n",
            "Epoch 15/125\n",
            " 1216/40000 [..............................] - ETA: 24s - loss: 0.5350 - acc: 0.8651"
          ],
          "name": "stdout"
        },
        {
          "output_type": "stream",
          "text": [
            "40000/40000 [==============================] - 27s 682us/step - loss: 0.5628 - acc: 0.8535 - val_loss: 0.6602 - val_acc: 0.8268\n",
            "Epoch 16/125\n",
            "40000/40000 [==============================] - 27s 681us/step - loss: 0.5496 - acc: 0.8581 - val_loss: 0.6734 - val_acc: 0.8237\n",
            "Epoch 17/125\n",
            " 1216/40000 [..............................] - ETA: 25s - loss: 0.4787 - acc: 0.8898"
          ],
          "name": "stdout"
        },
        {
          "output_type": "stream",
          "text": [
            "40000/40000 [==============================] - 27s 683us/step - loss: 0.5407 - acc: 0.8650 - val_loss: 0.6820 - val_acc: 0.8242\n",
            "Epoch 18/125\n",
            "40000/40000 [==============================] - 27s 681us/step - loss: 0.5328 - acc: 0.8692 - val_loss: 0.6926 - val_acc: 0.8232\n",
            "Epoch 19/125\n",
            " 1216/40000 [..............................] - ETA: 24s - loss: 0.4773 - acc: 0.8956"
          ],
          "name": "stdout"
        },
        {
          "output_type": "stream",
          "text": [
            "40000/40000 [==============================] - 27s 682us/step - loss: 0.5242 - acc: 0.8728 - val_loss: 0.7014 - val_acc: 0.8226\n",
            "Epoch 20/125\n",
            "40000/40000 [==============================] - 27s 682us/step - loss: 0.5153 - acc: 0.8763 - val_loss: 0.7081 - val_acc: 0.8247\n",
            "Epoch 21/125\n",
            " 1216/40000 [..............................] - ETA: 24s - loss: 0.4772 - acc: 0.8898"
          ],
          "name": "stdout"
        },
        {
          "output_type": "stream",
          "text": [
            "40000/40000 [==============================] - 27s 681us/step - loss: 0.5092 - acc: 0.8789 - val_loss: 0.7200 - val_acc: 0.8208\n",
            "Epoch 22/125\n",
            "40000/40000 [==============================] - 27s 683us/step - loss: 0.5014 - acc: 0.8839 - val_loss: 0.6991 - val_acc: 0.8361\n",
            "Epoch 23/125\n",
            " 1344/40000 [>.............................] - ETA: 24s - loss: 0.4634 - acc: 0.9018"
          ],
          "name": "stdout"
        },
        {
          "output_type": "stream",
          "text": [
            "40000/40000 [==============================] - 27s 684us/step - loss: 0.4955 - acc: 0.8858 - val_loss: 0.7354 - val_acc: 0.8204\n",
            "Epoch 24/125\n",
            "40000/40000 [==============================] - 27s 681us/step - loss: 0.4917 - acc: 0.8885 - val_loss: 0.6996 - val_acc: 0.8333\n",
            "Epoch 25/125\n",
            " 1088/40000 [..............................] - ETA: 24s - loss: 0.4460 - acc: 0.9026"
          ],
          "name": "stdout"
        },
        {
          "output_type": "stream",
          "text": [
            "40000/40000 [==============================] - 27s 683us/step - loss: 0.4898 - acc: 0.8899 - val_loss: 0.6937 - val_acc: 0.8338\n",
            "Epoch 26/125\n",
            "40000/40000 [==============================] - 27s 673us/step - loss: 0.4811 - acc: 0.8943 - val_loss: 0.7191 - val_acc: 0.8283\n",
            "Epoch 27/125\n",
            " 1344/40000 [>.............................] - ETA: 24s - loss: 0.4291 - acc: 0.9137"
          ],
          "name": "stdout"
        },
        {
          "output_type": "stream",
          "text": [
            "40000/40000 [==============================] - 27s 681us/step - loss: 0.4828 - acc: 0.8943 - val_loss: 0.6892 - val_acc: 0.8426\n",
            "Epoch 28/125\n",
            "40000/40000 [==============================] - 27s 681us/step - loss: 0.4751 - acc: 0.8967 - val_loss: 0.7180 - val_acc: 0.8339\n",
            "Epoch 29/125\n",
            " 1216/40000 [..............................] - ETA: 24s - loss: 0.4715 - acc: 0.8997"
          ],
          "name": "stdout"
        },
        {
          "output_type": "stream",
          "text": [
            "40000/40000 [==============================] - 27s 680us/step - loss: 0.4742 - acc: 0.8986 - val_loss: 0.7407 - val_acc: 0.8296\n",
            "Epoch 30/125\n",
            "40000/40000 [==============================] - 27s 682us/step - loss: 0.4729 - acc: 0.8990 - val_loss: 0.6996 - val_acc: 0.8423\n",
            "Epoch 31/125\n",
            " 1344/40000 [>.............................] - ETA: 24s - loss: 0.4430 - acc: 0.9077"
          ],
          "name": "stdout"
        },
        {
          "output_type": "stream",
          "text": [
            "40000/40000 [==============================] - 27s 681us/step - loss: 0.4689 - acc: 0.9023 - val_loss: 0.7285 - val_acc: 0.8339\n",
            "Epoch 32/125\n",
            "40000/40000 [==============================] - 27s 682us/step - loss: 0.4618 - acc: 0.9051 - val_loss: 0.7340 - val_acc: 0.8341\n",
            "Epoch 33/125\n",
            " 1216/40000 [..............................] - ETA: 24s - loss: 0.4261 - acc: 0.9227"
          ],
          "name": "stdout"
        },
        {
          "output_type": "stream",
          "text": [
            "40000/40000 [==============================] - 27s 680us/step - loss: 0.4616 - acc: 0.9049 - val_loss: 0.7168 - val_acc: 0.8390\n",
            "Epoch 34/125\n",
            "40000/40000 [==============================] - 27s 680us/step - loss: 0.4602 - acc: 0.9062 - val_loss: 0.7065 - val_acc: 0.8417\n",
            "Epoch 35/125\n",
            " 1216/40000 [..............................] - ETA: 24s - loss: 0.4233 - acc: 0.9211"
          ],
          "name": "stdout"
        },
        {
          "output_type": "stream",
          "text": [
            "40000/40000 [==============================] - 27s 682us/step - loss: 0.4616 - acc: 0.9067 - val_loss: 0.7323 - val_acc: 0.8392\n",
            "Epoch 36/125\n",
            "40000/40000 [==============================] - 27s 681us/step - loss: 0.4571 - acc: 0.9082 - val_loss: 0.7227 - val_acc: 0.8365\n",
            "Epoch 37/125\n",
            " 1216/40000 [..............................] - ETA: 24s - loss: 0.4479 - acc: 0.9137"
          ],
          "name": "stdout"
        },
        {
          "output_type": "stream",
          "text": [
            "40000/40000 [==============================] - 27s 683us/step - loss: 0.4568 - acc: 0.9107 - val_loss: 0.7203 - val_acc: 0.8436\n",
            "Epoch 38/125\n",
            "40000/40000 [==============================] - 27s 681us/step - loss: 0.4556 - acc: 0.9092 - val_loss: 0.7171 - val_acc: 0.8382\n",
            "Epoch 39/125\n",
            " 1216/40000 [..............................] - ETA: 24s - loss: 0.4274 - acc: 0.9087"
          ],
          "name": "stdout"
        },
        {
          "output_type": "stream",
          "text": [
            "40000/40000 [==============================] - 27s 682us/step - loss: 0.4490 - acc: 0.9134 - val_loss: 0.7304 - val_acc: 0.8428\n",
            "Epoch 40/125\n",
            "40000/40000 [==============================] - 27s 678us/step - loss: 0.4507 - acc: 0.9123 - val_loss: 0.7384 - val_acc: 0.8375\n",
            "Epoch 41/125\n",
            " 1344/40000 [>.............................] - ETA: 24s - loss: 0.4233 - acc: 0.9196"
          ],
          "name": "stdout"
        },
        {
          "output_type": "stream",
          "text": [
            "40000/40000 [==============================] - 27s 680us/step - loss: 0.4454 - acc: 0.9136 - val_loss: 0.7786 - val_acc: 0.8252\n",
            "Epoch 42/125\n",
            "40000/40000 [==============================] - 27s 681us/step - loss: 0.4473 - acc: 0.9141 - val_loss: 0.7190 - val_acc: 0.8365\n",
            "Epoch 43/125\n",
            " 1216/40000 [..............................] - ETA: 25s - loss: 0.3950 - acc: 0.9285"
          ],
          "name": "stdout"
        },
        {
          "output_type": "stream",
          "text": [
            "40000/40000 [==============================] - 27s 681us/step - loss: 0.4459 - acc: 0.9151 - val_loss: 0.7360 - val_acc: 0.8363\n",
            "Epoch 44/125\n",
            "40000/40000 [==============================] - 27s 681us/step - loss: 0.4414 - acc: 0.9175 - val_loss: 0.7743 - val_acc: 0.8337\n",
            "Epoch 45/125\n",
            " 1216/40000 [..............................] - ETA: 24s - loss: 0.3973 - acc: 0.9375"
          ],
          "name": "stdout"
        },
        {
          "output_type": "stream",
          "text": [
            "40000/40000 [==============================] - 27s 682us/step - loss: 0.4446 - acc: 0.9146 - val_loss: 0.7169 - val_acc: 0.8460\n",
            "Epoch 46/125\n",
            "40000/40000 [==============================] - 27s 679us/step - loss: 0.4360 - acc: 0.9203 - val_loss: 0.7229 - val_acc: 0.8476\n",
            "Epoch 47/125\n",
            " 1344/40000 [>.............................] - ETA: 24s - loss: 0.4097 - acc: 0.9301"
          ],
          "name": "stdout"
        },
        {
          "output_type": "stream",
          "text": [
            "40000/40000 [==============================] - 27s 682us/step - loss: 0.4346 - acc: 0.9203 - val_loss: 0.7385 - val_acc: 0.8377\n",
            "Epoch 48/125\n",
            "40000/40000 [==============================] - 27s 681us/step - loss: 0.4352 - acc: 0.9199 - val_loss: 0.7423 - val_acc: 0.8357\n",
            "Epoch 49/125\n",
            " 1344/40000 [>.............................] - ETA: 24s - loss: 0.4157 - acc: 0.9353"
          ],
          "name": "stdout"
        },
        {
          "output_type": "stream",
          "text": [
            "40000/40000 [==============================] - 27s 680us/step - loss: 0.4372 - acc: 0.9196 - val_loss: 0.7377 - val_acc: 0.8417\n",
            "Epoch 50/125\n",
            "40000/40000 [==============================] - 27s 673us/step - loss: 0.4349 - acc: 0.9206 - val_loss: 0.7605 - val_acc: 0.8365\n",
            "Epoch 51/125\n",
            " 1344/40000 [>.............................] - ETA: 24s - loss: 0.4120 - acc: 0.9345"
          ],
          "name": "stdout"
        },
        {
          "output_type": "stream",
          "text": [
            "40000/40000 [==============================] - 27s 682us/step - loss: 0.4347 - acc: 0.9211 - val_loss: 0.7297 - val_acc: 0.8399\n",
            "Epoch 52/125\n",
            "40000/40000 [==============================] - 27s 679us/step - loss: 0.4393 - acc: 0.9190 - val_loss: 0.7584 - val_acc: 0.8376\n",
            "Epoch 53/125\n",
            " 1216/40000 [..............................] - ETA: 24s - loss: 0.3991 - acc: 0.9293"
          ],
          "name": "stdout"
        },
        {
          "output_type": "stream",
          "text": [
            "40000/40000 [==============================] - 27s 680us/step - loss: 0.4371 - acc: 0.9204 - val_loss: 0.7349 - val_acc: 0.8432\n",
            "Epoch 54/125\n",
            "40000/40000 [==============================] - 27s 680us/step - loss: 0.4301 - acc: 0.9223 - val_loss: 0.7323 - val_acc: 0.8448\n",
            "Epoch 55/125\n",
            " 1344/40000 [>.............................] - ETA: 25s - loss: 0.3766 - acc: 0.9390"
          ],
          "name": "stdout"
        },
        {
          "output_type": "stream",
          "text": [
            "40000/40000 [==============================] - 27s 682us/step - loss: 0.4274 - acc: 0.9247 - val_loss: 0.7347 - val_acc: 0.8416\n",
            "Epoch 56/125\n",
            "40000/40000 [==============================] - 27s 678us/step - loss: 0.4275 - acc: 0.9235 - val_loss: 0.7233 - val_acc: 0.8485\n",
            "Epoch 57/125\n",
            " 1344/40000 [>.............................] - ETA: 24s - loss: 0.4075 - acc: 0.9345"
          ],
          "name": "stdout"
        },
        {
          "output_type": "stream",
          "text": [
            "40000/40000 [==============================] - 27s 677us/step - loss: 0.4283 - acc: 0.9248 - val_loss: 0.7349 - val_acc: 0.8444\n",
            "Epoch 58/125\n",
            "40000/40000 [==============================] - 27s 679us/step - loss: 0.4271 - acc: 0.9216 - val_loss: 0.7464 - val_acc: 0.8417\n",
            "Epoch 59/125\n",
            " 1216/40000 [..............................] - ETA: 24s - loss: 0.3905 - acc: 0.9391"
          ],
          "name": "stdout"
        },
        {
          "output_type": "stream",
          "text": [
            "40000/40000 [==============================] - 27s 682us/step - loss: 0.4299 - acc: 0.9245 - val_loss: 0.7556 - val_acc: 0.8376\n",
            "Epoch 60/125\n",
            "40000/40000 [==============================] - 27s 682us/step - loss: 0.4247 - acc: 0.9263 - val_loss: 0.7507 - val_acc: 0.8379\n",
            "Epoch 61/125\n",
            " 1216/40000 [..............................] - ETA: 24s - loss: 0.4018 - acc: 0.9359"
          ],
          "name": "stdout"
        },
        {
          "output_type": "stream",
          "text": [
            "40000/40000 [==============================] - 27s 677us/step - loss: 0.4280 - acc: 0.9241 - val_loss: 0.7386 - val_acc: 0.8387\n",
            "Epoch 62/125\n",
            "40000/40000 [==============================] - 27s 679us/step - loss: 0.4231 - acc: 0.9265 - val_loss: 0.7170 - val_acc: 0.8487\n",
            "Epoch 63/125\n",
            " 1216/40000 [..............................] - ETA: 24s - loss: 0.3765 - acc: 0.9465"
          ],
          "name": "stdout"
        },
        {
          "output_type": "stream",
          "text": [
            "40000/40000 [==============================] - 27s 682us/step - loss: 0.4212 - acc: 0.9270 - val_loss: 0.7355 - val_acc: 0.8403\n",
            "Epoch 64/125\n",
            "40000/40000 [==============================] - 27s 680us/step - loss: 0.4223 - acc: 0.9269 - val_loss: 0.7226 - val_acc: 0.8477\n",
            "Epoch 65/125\n",
            " 1344/40000 [>.............................] - ETA: 24s - loss: 0.3660 - acc: 0.9449"
          ],
          "name": "stdout"
        },
        {
          "output_type": "stream",
          "text": [
            "40000/40000 [==============================] - 27s 681us/step - loss: 0.4201 - acc: 0.9278 - val_loss: 0.7296 - val_acc: 0.8447\n",
            "Epoch 66/125\n",
            "40000/40000 [==============================] - 27s 680us/step - loss: 0.4186 - acc: 0.9269 - val_loss: 0.7522 - val_acc: 0.8428\n",
            "Epoch 67/125\n",
            " 1344/40000 [>.............................] - ETA: 24s - loss: 0.4244 - acc: 0.9308"
          ],
          "name": "stdout"
        },
        {
          "output_type": "stream",
          "text": [
            "40000/40000 [==============================] - 27s 683us/step - loss: 0.4182 - acc: 0.9274 - val_loss: 0.7376 - val_acc: 0.8458\n",
            "Epoch 68/125\n",
            "40000/40000 [==============================] - 27s 681us/step - loss: 0.4184 - acc: 0.9278 - val_loss: 0.7300 - val_acc: 0.8502\n",
            "Epoch 69/125\n",
            " 1344/40000 [>.............................] - ETA: 24s - loss: 0.4091 - acc: 0.9286"
          ],
          "name": "stdout"
        },
        {
          "output_type": "stream",
          "text": [
            "40000/40000 [==============================] - 27s 681us/step - loss: 0.4201 - acc: 0.9274 - val_loss: 0.7192 - val_acc: 0.8483\n",
            "Epoch 70/125\n",
            "40000/40000 [==============================] - 27s 683us/step - loss: 0.4169 - acc: 0.9282 - val_loss: 0.7478 - val_acc: 0.8431\n",
            "Epoch 71/125\n",
            " 1344/40000 [>.............................] - ETA: 24s - loss: 0.3703 - acc: 0.9442"
          ],
          "name": "stdout"
        },
        {
          "output_type": "stream",
          "text": [
            "40000/40000 [==============================] - 27s 681us/step - loss: 0.4198 - acc: 0.9273 - val_loss: 0.7504 - val_acc: 0.8433\n",
            "Epoch 72/125\n",
            "40000/40000 [==============================] - 27s 681us/step - loss: 0.4188 - acc: 0.9286 - val_loss: 0.7296 - val_acc: 0.8455\n",
            "Epoch 73/125\n",
            " 1216/40000 [..............................] - ETA: 24s - loss: 0.4010 - acc: 0.9309"
          ],
          "name": "stdout"
        },
        {
          "output_type": "stream",
          "text": [
            "40000/40000 [==============================] - 27s 680us/step - loss: 0.4147 - acc: 0.9297 - val_loss: 0.7260 - val_acc: 0.8438\n",
            "Epoch 74/125\n",
            "40000/40000 [==============================] - 27s 671us/step - loss: 0.4111 - acc: 0.9304 - val_loss: 0.7196 - val_acc: 0.8535\n",
            "Epoch 75/125\n",
            " 1216/40000 [..............................] - ETA: 24s - loss: 0.3776 - acc: 0.9375"
          ],
          "name": "stdout"
        },
        {
          "output_type": "stream",
          "text": [
            "40000/40000 [==============================] - 27s 685us/step - loss: 0.4111 - acc: 0.9310 - val_loss: 0.7304 - val_acc: 0.8433\n",
            "Epoch 76/125\n",
            "40000/40000 [==============================] - 27s 685us/step - loss: 0.4105 - acc: 0.9307 - val_loss: 0.7168 - val_acc: 0.8501\n",
            "Epoch 77/125\n",
            " 1216/40000 [..............................] - ETA: 24s - loss: 0.3753 - acc: 0.9424"
          ],
          "name": "stdout"
        },
        {
          "output_type": "stream",
          "text": [
            "40000/40000 [==============================] - 27s 683us/step - loss: 0.4127 - acc: 0.9317 - val_loss: 0.7326 - val_acc: 0.8456\n",
            "Epoch 78/125\n",
            "40000/40000 [==============================] - 27s 684us/step - loss: 0.4103 - acc: 0.9316 - val_loss: 0.7399 - val_acc: 0.8472\n",
            "Epoch 79/125\n",
            " 1216/40000 [..............................] - ETA: 24s - loss: 0.4031 - acc: 0.9293"
          ],
          "name": "stdout"
        },
        {
          "output_type": "stream",
          "text": [
            "40000/40000 [==============================] - 27s 680us/step - loss: 0.4101 - acc: 0.9310 - val_loss: 0.7391 - val_acc: 0.8498\n",
            "Epoch 80/125\n",
            "40000/40000 [==============================] - 27s 683us/step - loss: 0.4149 - acc: 0.9296 - val_loss: 0.7484 - val_acc: 0.8455\n",
            "Epoch 81/125\n",
            " 1344/40000 [>.............................] - ETA: 24s - loss: 0.3948 - acc: 0.9375"
          ],
          "name": "stdout"
        },
        {
          "output_type": "stream",
          "text": [
            "40000/40000 [==============================] - 27s 682us/step - loss: 0.4062 - acc: 0.9337 - val_loss: 0.7317 - val_acc: 0.8527\n",
            "Epoch 82/125\n",
            "40000/40000 [==============================] - 27s 681us/step - loss: 0.4064 - acc: 0.9326 - val_loss: 0.7284 - val_acc: 0.8534\n",
            "Epoch 83/125\n",
            " 1344/40000 [>.............................] - ETA: 24s - loss: 0.3681 - acc: 0.9435"
          ],
          "name": "stdout"
        },
        {
          "output_type": "stream",
          "text": [
            "40000/40000 [==============================] - 27s 681us/step - loss: 0.4076 - acc: 0.9330 - val_loss: 0.7455 - val_acc: 0.8471\n",
            "Epoch 84/125\n",
            "40000/40000 [==============================] - 27s 681us/step - loss: 0.4054 - acc: 0.9330 - val_loss: 0.7237 - val_acc: 0.8498\n",
            "Epoch 85/125\n",
            " 1344/40000 [>.............................] - ETA: 24s - loss: 0.3870 - acc: 0.9427"
          ],
          "name": "stdout"
        },
        {
          "output_type": "stream",
          "text": [
            "40000/40000 [==============================] - 27s 682us/step - loss: 0.4044 - acc: 0.9330 - val_loss: 0.7390 - val_acc: 0.8498\n",
            "Epoch 86/125\n",
            "40000/40000 [==============================] - 27s 681us/step - loss: 0.4113 - acc: 0.9304 - val_loss: 0.7096 - val_acc: 0.8537\n",
            "Epoch 87/125\n",
            " 1344/40000 [>.............................] - ETA: 24s - loss: 0.3696 - acc: 0.9412"
          ],
          "name": "stdout"
        },
        {
          "output_type": "stream",
          "text": [
            "40000/40000 [==============================] - 27s 677us/step - loss: 0.4014 - acc: 0.9352 - val_loss: 0.7477 - val_acc: 0.8527\n",
            "Epoch 88/125\n",
            "40000/40000 [==============================] - 27s 681us/step - loss: 0.4012 - acc: 0.9342 - val_loss: 0.7276 - val_acc: 0.8558\n",
            "Epoch 89/125\n",
            " 1344/40000 [>.............................] - ETA: 24s - loss: 0.3621 - acc: 0.9479"
          ],
          "name": "stdout"
        },
        {
          "output_type": "stream",
          "text": [
            "40000/40000 [==============================] - 27s 680us/step - loss: 0.4032 - acc: 0.9322 - val_loss: 0.7667 - val_acc: 0.8455\n",
            "Epoch 90/125\n",
            "40000/40000 [==============================] - 27s 680us/step - loss: 0.4010 - acc: 0.9330 - val_loss: 0.7645 - val_acc: 0.8450\n",
            "Epoch 91/125\n",
            " 1344/40000 [>.............................] - ETA: 25s - loss: 0.3730 - acc: 0.9472"
          ],
          "name": "stdout"
        },
        {
          "output_type": "stream",
          "text": [
            "40000/40000 [==============================] - 27s 681us/step - loss: 0.3992 - acc: 0.9363 - val_loss: 0.7292 - val_acc: 0.8486\n",
            "Epoch 92/125\n",
            "40000/40000 [==============================] - 27s 681us/step - loss: 0.4014 - acc: 0.9356 - val_loss: 0.7236 - val_acc: 0.8500\n",
            "Epoch 93/125\n",
            " 1216/40000 [..............................] - ETA: 24s - loss: 0.3702 - acc: 0.9482"
          ],
          "name": "stdout"
        },
        {
          "output_type": "stream",
          "text": [
            "40000/40000 [==============================] - 27s 680us/step - loss: 0.4016 - acc: 0.9355 - val_loss: 0.7194 - val_acc: 0.8531\n",
            "Epoch 94/125\n",
            "40000/40000 [==============================] - 27s 681us/step - loss: 0.4001 - acc: 0.9340 - val_loss: 0.7162 - val_acc: 0.8494\n",
            "Epoch 95/125\n",
            " 1216/40000 [..............................] - ETA: 24s - loss: 0.3646 - acc: 0.9465"
          ],
          "name": "stdout"
        },
        {
          "output_type": "stream",
          "text": [
            "40000/40000 [==============================] - 27s 681us/step - loss: 0.4025 - acc: 0.9342 - val_loss: 0.7044 - val_acc: 0.8582\n",
            "Epoch 96/125\n",
            "40000/40000 [==============================] - 27s 681us/step - loss: 0.3995 - acc: 0.9356 - val_loss: 0.7051 - val_acc: 0.8525\n",
            "Epoch 97/125\n",
            " 1216/40000 [..............................] - ETA: 24s - loss: 0.3768 - acc: 0.9383"
          ],
          "name": "stdout"
        },
        {
          "output_type": "stream",
          "text": [
            "40000/40000 [==============================] - 27s 680us/step - loss: 0.3959 - acc: 0.9353 - val_loss: 0.7293 - val_acc: 0.8557\n",
            "Epoch 98/125\n",
            "40000/40000 [==============================] - 27s 672us/step - loss: 0.3958 - acc: 0.9350 - val_loss: 0.7263 - val_acc: 0.8541\n",
            "Epoch 99/125\n",
            " 1216/40000 [..............................] - ETA: 24s - loss: 0.3740 - acc: 0.9416"
          ],
          "name": "stdout"
        },
        {
          "output_type": "stream",
          "text": [
            "40000/40000 [==============================] - 27s 680us/step - loss: 0.4004 - acc: 0.9342 - val_loss: 0.7218 - val_acc: 0.8490\n",
            "Epoch 100/125\n",
            "40000/40000 [==============================] - 27s 679us/step - loss: 0.3965 - acc: 0.9364 - val_loss: 0.7412 - val_acc: 0.8472\n",
            "Epoch 101/125\n",
            " 1088/40000 [..............................] - ETA: 24s - loss: 0.3656 - acc: 0.9476"
          ],
          "name": "stdout"
        },
        {
          "output_type": "stream",
          "text": [
            "40000/40000 [==============================] - 27s 678us/step - loss: 0.3978 - acc: 0.9358 - val_loss: 0.7365 - val_acc: 0.8474\n",
            "Epoch 102/125\n",
            "40000/40000 [==============================] - 27s 679us/step - loss: 0.3991 - acc: 0.9348 - val_loss: 0.7119 - val_acc: 0.8531\n",
            "Epoch 103/125\n",
            "  960/40000 [..............................] - ETA: 24s - loss: 0.3725 - acc: 0.9344"
          ],
          "name": "stdout"
        },
        {
          "output_type": "stream",
          "text": [
            "40000/40000 [==============================] - 27s 680us/step - loss: 0.3987 - acc: 0.9346 - val_loss: 0.7125 - val_acc: 0.8498\n",
            "Epoch 104/125\n",
            "40000/40000 [==============================] - 27s 679us/step - loss: 0.3907 - acc: 0.9369 - val_loss: 0.7187 - val_acc: 0.8509\n",
            "Epoch 105/125\n",
            " 1088/40000 [..............................] - ETA: 24s - loss: 0.3817 - acc: 0.9366"
          ],
          "name": "stdout"
        },
        {
          "output_type": "stream",
          "text": [
            "40000/40000 [==============================] - 27s 681us/step - loss: 0.3947 - acc: 0.9351 - val_loss: 0.7229 - val_acc: 0.8577\n",
            "Epoch 106/125\n",
            "40000/40000 [==============================] - 27s 683us/step - loss: 0.3955 - acc: 0.9358 - val_loss: 0.7062 - val_acc: 0.8538\n",
            "Epoch 107/125\n",
            " 1088/40000 [..............................] - ETA: 24s - loss: 0.3493 - acc: 0.9494"
          ],
          "name": "stdout"
        },
        {
          "output_type": "stream",
          "text": [
            "40000/40000 [==============================] - 27s 680us/step - loss: 0.3931 - acc: 0.9373 - val_loss: 0.7260 - val_acc: 0.8536\n",
            "Epoch 108/125\n",
            "40000/40000 [==============================] - 27s 682us/step - loss: 0.3971 - acc: 0.9344 - val_loss: 0.7231 - val_acc: 0.8547\n",
            "Epoch 109/125\n",
            " 1088/40000 [..............................] - ETA: 24s - loss: 0.3757 - acc: 0.9449"
          ],
          "name": "stdout"
        },
        {
          "output_type": "stream",
          "text": [
            "40000/40000 [==============================] - 27s 684us/step - loss: 0.3894 - acc: 0.9375 - val_loss: 0.7139 - val_acc: 0.8564\n",
            "Epoch 110/125\n",
            "40000/40000 [==============================] - 27s 679us/step - loss: 0.3890 - acc: 0.9383 - val_loss: 0.7207 - val_acc: 0.8565\n",
            "Epoch 111/125\n",
            " 1152/40000 [..............................] - ETA: 25s - loss: 0.3857 - acc: 0.9410"
          ],
          "name": "stdout"
        },
        {
          "output_type": "stream",
          "text": [
            "40000/40000 [==============================] - 27s 682us/step - loss: 0.3880 - acc: 0.9382 - val_loss: 0.7239 - val_acc: 0.8516\n",
            "Epoch 112/125\n",
            "40000/40000 [==============================] - 27s 677us/step - loss: 0.3893 - acc: 0.9395 - val_loss: 0.7013 - val_acc: 0.8553\n",
            "Epoch 113/125\n",
            " 1088/40000 [..............................] - ETA: 24s - loss: 0.3474 - acc: 0.9504"
          ],
          "name": "stdout"
        },
        {
          "output_type": "stream",
          "text": [
            "40000/40000 [==============================] - 27s 682us/step - loss: 0.3852 - acc: 0.9395 - val_loss: 0.7209 - val_acc: 0.8551\n",
            "Epoch 114/125\n",
            "40000/40000 [==============================] - 27s 680us/step - loss: 0.3937 - acc: 0.9362 - val_loss: 0.7429 - val_acc: 0.8503\n",
            "Epoch 115/125\n",
            " 1216/40000 [..............................] - ETA: 24s - loss: 0.3560 - acc: 0.9474"
          ],
          "name": "stdout"
        },
        {
          "output_type": "stream",
          "text": [
            "40000/40000 [==============================] - 27s 682us/step - loss: 0.3898 - acc: 0.9373 - val_loss: 0.7259 - val_acc: 0.8561\n",
            "Epoch 116/125\n",
            "40000/40000 [==============================] - 27s 681us/step - loss: 0.3907 - acc: 0.9372 - val_loss: 0.7497 - val_acc: 0.8481\n",
            "Epoch 117/125\n",
            " 1088/40000 [..............................] - ETA: 24s - loss: 0.3655 - acc: 0.9504"
          ],
          "name": "stdout"
        },
        {
          "output_type": "stream",
          "text": [
            "40000/40000 [==============================] - 27s 679us/step - loss: 0.3939 - acc: 0.9372 - val_loss: 0.7136 - val_acc: 0.8514\n",
            "Epoch 118/125\n",
            "40000/40000 [==============================] - 27s 681us/step - loss: 0.3877 - acc: 0.9392 - val_loss: 0.7408 - val_acc: 0.8474\n",
            "Epoch 119/125\n",
            " 1088/40000 [..............................] - ETA: 25s - loss: 0.3620 - acc: 0.9430"
          ],
          "name": "stdout"
        },
        {
          "output_type": "stream",
          "text": [
            "40000/40000 [==============================] - 27s 682us/step - loss: 0.3865 - acc: 0.9383 - val_loss: 0.7455 - val_acc: 0.8525\n",
            "Epoch 120/125\n",
            "40000/40000 [==============================] - 27s 683us/step - loss: 0.3852 - acc: 0.9395 - val_loss: 0.7265 - val_acc: 0.8545\n",
            "Epoch 121/125\n",
            " 1088/40000 [..............................] - ETA: 24s - loss: 0.3923 - acc: 0.9366"
          ],
          "name": "stdout"
        },
        {
          "output_type": "stream",
          "text": [
            "40000/40000 [==============================] - 27s 674us/step - loss: 0.3829 - acc: 0.9398 - val_loss: 0.7407 - val_acc: 0.8505\n",
            "Epoch 122/125\n",
            "40000/40000 [==============================] - 27s 679us/step - loss: 0.3871 - acc: 0.9394 - val_loss: 0.6979 - val_acc: 0.8580\n",
            "Epoch 123/125\n",
            " 1216/40000 [..............................] - ETA: 24s - loss: 0.3746 - acc: 0.9400"
          ],
          "name": "stdout"
        },
        {
          "output_type": "stream",
          "text": [
            "40000/40000 [==============================] - 27s 680us/step - loss: 0.3827 - acc: 0.9410 - val_loss: 0.7573 - val_acc: 0.8449\n",
            "Epoch 124/125\n",
            "40000/40000 [==============================] - 27s 680us/step - loss: 0.3863 - acc: 0.9396 - val_loss: 0.7118 - val_acc: 0.8599\n",
            "Epoch 125/125\n",
            " 1088/40000 [..............................] - ETA: 24s - loss: 0.3596 - acc: 0.9467"
          ],
          "name": "stdout"
        },
        {
          "output_type": "stream",
          "text": [
            "40000/40000 [==============================] - 27s 682us/step - loss: 0.3841 - acc: 0.9399 - val_loss: 0.7137 - val_acc: 0.8590\n"
          ],
          "name": "stdout"
        }
      ]
    },
    {
      "metadata": {
        "id": "n_i5NDjK8ezi",
        "colab_type": "code",
        "colab": {
          "base_uri": "https://localhost:8080/",
          "height": 349
        },
        "outputId": "f18b2c70-3929-40d0-e114-35cc279276ea"
      },
      "cell_type": "code",
      "source": [
        "plot_model(modeldetais)"
      ],
      "execution_count": 0,
      "outputs": [
        {
          "output_type": "display_data",
          "data": {
            "image/png": "[encoded data removed]",
            "text/plain": [
              "<matplotlib.figure.Figure at 0x7f6b76f45080>"
            ]
          },
          "metadata": {
            "tags": []
          }
        }
      ]
    },
    {
      "metadata": {
        "id": "RfxoUIo_8o5D",
        "colab_type": "text"
      },
      "cell_type": "markdown",
      "source": [
        "lets plot the same model with 125 epochs.\n"
      ]
    },
    {
      "metadata": {
        "id": "ss6K_2NK3u5G",
        "colab_type": "code",
        "colab": {
          "base_uri": "https://localhost:8080/",
          "height": 349
        },
        "outputId": "1bfd44f8-0fb6-451c-c21c-e2c455eb4da7"
      },
      "cell_type": "code",
      "source": [
        "plot_model(modeldetais)"
      ],
      "execution_count": 0,
      "outputs": [
        {
          "output_type": "display_data",
          "data": {
            "image/png": "[encoded data removed]",
            "text/plain": [
              "<matplotlib.figure.Figure at 0x7f3868e4f358>"
            ]
          },
          "metadata": {
            "tags": []
          }
        }
      ]
    },
    {
      "metadata": {
        "id": "7DWJAQse4O94",
        "colab_type": "text"
      },
      "cell_type": "markdown",
      "source": [
        "The accurarcy is fixed at 85% only. the model needs more improvement."
      ]
    },
    {
      "metadata": {
        "id": "ScBhtYyz8__a",
        "colab_type": "text"
      },
      "cell_type": "markdown",
      "source": [
        "4th Model"
      ]
    },
    {
      "metadata": {
        "id": "8hWQBN0N8527",
        "colab_type": "code",
        "colab": {
          "base_uri": "https://localhost:8080/",
          "height": 890
        },
        "outputId": "40b3bcde-11e9-49fb-c8de-2e98e2f5461a"
      },
      "cell_type": "code",
      "source": [
        "def lr_schedule(epoch):\n",
        "    lrate = 0.001\n",
        "    if epoch > 75:\n",
        "        lrate = 0.0005\n",
        "    elif epoch > 100:\n",
        "        lrate = 0.0003        \n",
        "    return lrate\n",
        "\n",
        "\n",
        "\n",
        "# Create the model\n",
        "weight_decay = 1e-4\n",
        "model = Sequential()\n",
        "model.add(Conv2D(32, (3, 3), input_shape=(3, 32, 32),kernel_regularizer=regularizers.l2(weight_decay), activation='relu', padding='same'))\n",
        "model.add(BatchNormalization())\n",
        "model.add(Conv2D(32, (3, 3), activation='relu',kernel_regularizer=regularizers.l2(weight_decay), padding='same'))\n",
        "model.add(BatchNormalization())\n",
        "model.add(MaxPooling2D(pool_size=(2, 2)))\n",
        "model.add(Dropout(0.2))\n",
        "\n",
        "model.add(Conv2D(64, (3, 3), activation='relu',kernel_regularizer=regularizers.l2(weight_decay), padding='same'))\n",
        "model.add(BatchNormalization())\n",
        "model.add(Conv2D(64, (3, 3), activation='relu', kernel_regularizer=regularizers.l2(weight_decay),padding='same'))\n",
        "model.add(BatchNormalization())\n",
        "model.add(MaxPooling2D(pool_size=(2, 2)))\n",
        "model.add(Dropout(0.3))\n",
        "\n",
        "model.add(Conv2D(128, (3, 3), activation='relu',kernel_regularizer=regularizers.l2(weight_decay), padding='same'))\n",
        "model.add(BatchNormalization())\n",
        "model.add(Conv2D(128, (3, 3), activation='relu',kernel_regularizer=regularizers.l2(weight_decay), padding='same'))\n",
        "model.add(BatchNormalization())\n",
        "model.add(MaxPooling2D(pool_size=(2, 2)))\n",
        "model.add(Dropout(0.4))\n",
        "\n",
        "model.add(Flatten())\n",
        "model.add(Dense(num_classes, activation='softmax'))\n",
        "\n",
        "print(model.summary())\n",
        "\n",
        "#data augmentation\n",
        "datagen = ImageDataGenerator(\n",
        "    rotation_range=15,\n",
        "    width_shift_range=0.1,\n",
        "    height_shift_range=0.1,\n",
        "    horizontal_flip=True,\n",
        "    )\n",
        "datagen.fit(X_train)\n",
        "\n",
        "# Compile model\n",
        "epochs = 50\n",
        "adam=keras.optimizers.Adam(lr=0.001, beta_1=0.9, beta_2=0.999, epsilon=None, decay=1e-6, amsgrad=False)\n",
        "\n",
        "model.compile(loss='categorical_crossentropy', optimizer=adam, metrics=['accuracy'])\n"
      ],
      "execution_count": 0,
      "outputs": [
        {
          "output_type": "stream",
          "text": [
            "_________________________________________________________________\n",
            "Layer (type)                 Output Shape              Param #   \n",
            "=================================================================\n",
            "conv2d_88 (Conv2D)           (None, 32, 32, 32)        896       \n",
            "_________________________________________________________________\n",
            "batch_normalization_30 (Batc (None, 32, 32, 32)        128       \n",
            "_________________________________________________________________\n",
            "conv2d_89 (Conv2D)           (None, 32, 32, 32)        9248      \n",
            "_________________________________________________________________\n",
            "batch_normalization_31 (Batc (None, 32, 32, 32)        128       \n",
            "_________________________________________________________________\n",
            "max_pooling2d_35 (MaxPooling (None, 32, 16, 16)        0         \n",
            "_________________________________________________________________\n",
            "dropout_64 (Dropout)         (None, 32, 16, 16)        0         \n",
            "_________________________________________________________________\n",
            "conv2d_90 (Conv2D)           (None, 64, 16, 16)        18496     \n",
            "_________________________________________________________________\n",
            "batch_normalization_32 (Batc (None, 64, 16, 16)        64        \n",
            "_________________________________________________________________\n",
            "conv2d_91 (Conv2D)           (None, 64, 16, 16)        36928     \n",
            "_________________________________________________________________\n",
            "batch_normalization_33 (Batc (None, 64, 16, 16)        64        \n",
            "_________________________________________________________________\n",
            "max_pooling2d_36 (MaxPooling (None, 64, 8, 8)          0         \n",
            "_________________________________________________________________\n",
            "dropout_65 (Dropout)         (None, 64, 8, 8)          0         \n",
            "_________________________________________________________________\n",
            "conv2d_92 (Conv2D)           (None, 128, 8, 8)         73856     \n",
            "_________________________________________________________________\n",
            "batch_normalization_34 (Batc (None, 128, 8, 8)         32        \n",
            "_________________________________________________________________\n",
            "conv2d_93 (Conv2D)           (None, 128, 8, 8)         147584    \n",
            "_________________________________________________________________\n",
            "batch_normalization_35 (Batc (None, 128, 8, 8)         32        \n",
            "_________________________________________________________________\n",
            "max_pooling2d_37 (MaxPooling (None, 128, 4, 4)         0         \n",
            "_________________________________________________________________\n",
            "dropout_66 (Dropout)         (None, 128, 4, 4)         0         \n",
            "_________________________________________________________________\n",
            "flatten_21 (Flatten)         (None, 2048)              0         \n",
            "_________________________________________________________________\n",
            "dense_45 (Dense)             (None, 10)                20490     \n",
            "=================================================================\n",
            "Total params: 307,946\n",
            "Trainable params: 307,722\n",
            "Non-trainable params: 224\n",
            "_________________________________________________________________\n",
            "None\n"
          ],
          "name": "stdout"
        }
      ]
    },
    {
      "metadata": {
        "id": "hK4AMy_f-zP2",
        "colab_type": "code",
        "colab": {}
      },
      "cell_type": "code",
      "source": [
        "class AccuracyHistory(keras.callbacks.Callback):\n",
        "    def on_train_begin(self, logs={}):\n",
        "        self.acc = []\n",
        "\n",
        "    def on_epoch_end(self, batch, logs={}):\n",
        "        self.acc.append(logs.get('acc'))\n",
        "\n",
        "history = AccuracyHistory()"
      ],
      "execution_count": 0,
      "outputs": []
    },
    {
      "metadata": {
        "id": "QCdnqeWT-5ck",
        "colab_type": "code",
        "colab": {
          "base_uri": "https://localhost:8080/",
          "height": 1874
        },
        "outputId": "d4986170-e6c2-43fd-e8fc-634c0f1d0593"
      },
      "cell_type": "code",
      "source": [
        "model4 = model.fit(X_train, y_train, validation_data=(X_valid, y_valid), epochs=epochs, batch_size=64,callbacks=[history])"
      ],
      "execution_count": 0,
      "outputs": [
        {
          "output_type": "stream",
          "text": [
            "Train on 40000 samples, validate on 10000 samples\n",
            "Epoch 1/50\n",
            "40000/40000 [==============================] - 44s 1ms/step - loss: 1.8589 - acc: 0.3759 - val_loss: 1.3028 - val_acc: 0.5416\n",
            "Epoch 2/50\n",
            " 2240/40000 [>.............................] - ETA: 31s - loss: 1.3570 - acc: 0.5254"
          ],
          "name": "stdout"
        },
        {
          "output_type": "stream",
          "text": [
            "40000/40000 [==============================] - 39s 972us/step - loss: 1.2081 - acc: 0.5829 - val_loss: 1.0243 - val_acc: 0.6633\n",
            "Epoch 3/50\n",
            "15872/40000 [==========>...................] - ETA: 19s - loss: 1.0332 - acc: 0.6525"
          ],
          "name": "stdout"
        },
        {
          "output_type": "stream",
          "text": [
            "40000/40000 [==============================] - 34s 852us/step - loss: 0.9980 - acc: 0.6653 - val_loss: 0.8948 - val_acc: 0.7059\n",
            "Epoch 4/50\n",
            "26880/40000 [===================>..........] - ETA: 10s - loss: 0.8832 - acc: 0.7126"
          ],
          "name": "stdout"
        },
        {
          "output_type": "stream",
          "text": [
            "40000/40000 [==============================] - 33s 824us/step - loss: 0.8778 - acc: 0.7141 - val_loss: 0.7764 - val_acc: 0.7500\n",
            "Epoch 5/50\n",
            "40000/40000 [==============================] - 31s 787us/step - loss: 0.8005 - acc: 0.7417 - val_loss: 0.7554 - val_acc: 0.7651\n",
            "Epoch 6/50\n",
            " 2560/40000 [>.............................] - ETA: 27s - loss: 0.7218 - acc: 0.7762"
          ],
          "name": "stdout"
        },
        {
          "output_type": "stream",
          "text": [
            "40000/40000 [==============================] - 31s 775us/step - loss: 0.7466 - acc: 0.7674 - val_loss: 0.7274 - val_acc: 0.7731\n",
            "Epoch 7/50\n",
            "38528/40000 [===========================>..] - ETA: 1s - loss: 0.6973 - acc: 0.7860"
          ],
          "name": "stdout"
        },
        {
          "output_type": "stream",
          "text": [
            "40000/40000 [==============================] - 31s 778us/step - loss: 0.6963 - acc: 0.7865 - val_loss: 0.7076 - val_acc: 0.7862\n",
            "Epoch 8/50\n",
            "40000/40000 [==============================] - 31s 779us/step - loss: 0.6641 - acc: 0.8005 - val_loss: 0.7157 - val_acc: 0.7863\n",
            "Epoch 9/50\n",
            " 6592/40000 [===>..........................] - ETA: 24s - loss: 0.6054 - acc: 0.8258"
          ],
          "name": "stdout"
        },
        {
          "output_type": "stream",
          "text": [
            "40000/40000 [==============================] - 31s 777us/step - loss: 0.6447 - acc: 0.8123 - val_loss: 0.6882 - val_acc: 0.8022\n",
            "Epoch 10/50\n",
            "40000/40000 [==============================] - 31s 765us/step - loss: 0.6183 - acc: 0.8216 - val_loss: 0.6856 - val_acc: 0.8039\n",
            "Epoch 11/50\n",
            "  704/40000 [..............................] - ETA: 27s - loss: 0.5808 - acc: 0.8537"
          ],
          "name": "stdout"
        },
        {
          "output_type": "stream",
          "text": [
            "40000/40000 [==============================] - 31s 764us/step - loss: 0.5966 - acc: 0.8314 - val_loss: 0.7308 - val_acc: 0.7979\n",
            "Epoch 12/50\n",
            "39296/40000 [============================>.] - ETA: 0s - loss: 0.5848 - acc: 0.8409"
          ],
          "name": "stdout"
        },
        {
          "output_type": "stream",
          "text": [
            "40000/40000 [==============================] - 31s 765us/step - loss: 0.5860 - acc: 0.8404 - val_loss: 0.6649 - val_acc: 0.8166\n",
            "Epoch 13/50\n",
            "40000/40000 [==============================] - 30s 750us/step - loss: 0.5725 - acc: 0.8460 - val_loss: 0.6829 - val_acc: 0.8151\n",
            "Epoch 14/50\n",
            " 9216/40000 [=====>........................] - ETA: 21s - loss: 0.5162 - acc: 0.8684"
          ],
          "name": "stdout"
        },
        {
          "output_type": "stream",
          "text": [
            "40000/40000 [==============================] - 30s 748us/step - loss: 0.5591 - acc: 0.8532 - val_loss: 0.6900 - val_acc: 0.8160\n",
            "Epoch 15/50\n",
            "40000/40000 [==============================] - 29s 728us/step - loss: 0.5477 - acc: 0.8582 - val_loss: 0.6837 - val_acc: 0.8181\n",
            "Epoch 16/50\n",
            " 2624/40000 [>.............................] - ETA: 25s - loss: 0.4891 - acc: 0.8822"
          ],
          "name": "stdout"
        },
        {
          "output_type": "stream",
          "text": [
            "40000/40000 [==============================] - 29s 727us/step - loss: 0.5400 - acc: 0.8626 - val_loss: 0.6931 - val_acc: 0.8210\n",
            "Epoch 17/50\n",
            "40000/40000 [==============================] - 28s 711us/step - loss: 0.5298 - acc: 0.8680 - val_loss: 0.6870 - val_acc: 0.8271\n",
            "Epoch 18/50\n",
            " 1472/40000 [>.............................] - ETA: 25s - loss: 0.4818 - acc: 0.8811"
          ],
          "name": "stdout"
        },
        {
          "output_type": "stream",
          "text": [
            "40000/40000 [==============================] - 28s 707us/step - loss: 0.5217 - acc: 0.8718 - val_loss: 0.6905 - val_acc: 0.8257\n",
            "Epoch 19/50\n",
            "40000/40000 [==============================] - 28s 711us/step - loss: 0.5194 - acc: 0.8724 - val_loss: 0.7215 - val_acc: 0.8196\n",
            "Epoch 20/50\n",
            "  960/40000 [..............................] - ETA: 26s - loss: 0.4666 - acc: 0.8844"
          ],
          "name": "stdout"
        },
        {
          "output_type": "stream",
          "text": [
            "40000/40000 [==============================] - 28s 711us/step - loss: 0.5115 - acc: 0.8780 - val_loss: 0.6792 - val_acc: 0.8326\n",
            "Epoch 21/50\n",
            "40000/40000 [==============================] - 28s 708us/step - loss: 0.5048 - acc: 0.8829 - val_loss: 0.7128 - val_acc: 0.8276\n",
            "Epoch 22/50\n",
            " 1088/40000 [..............................] - ETA: 25s - loss: 0.4471 - acc: 0.9035"
          ],
          "name": "stdout"
        },
        {
          "output_type": "stream",
          "text": [
            "40000/40000 [==============================] - 28s 709us/step - loss: 0.4965 - acc: 0.8862 - val_loss: 0.6850 - val_acc: 0.8353\n",
            "Epoch 23/50\n",
            "40000/40000 [==============================] - 28s 708us/step - loss: 0.4963 - acc: 0.8864 - val_loss: 0.6993 - val_acc: 0.8366\n",
            "Epoch 24/50\n",
            "  896/40000 [..............................] - ETA: 25s - loss: 0.4714 - acc: 0.8996"
          ],
          "name": "stdout"
        },
        {
          "output_type": "stream",
          "text": [
            "40000/40000 [==============================] - 28s 695us/step - loss: 0.4891 - acc: 0.8893 - val_loss: 0.6864 - val_acc: 0.8348\n",
            "Epoch 25/50\n",
            "40000/40000 [==============================] - 28s 695us/step - loss: 0.4873 - acc: 0.8923 - val_loss: 0.7281 - val_acc: 0.8255\n",
            "Epoch 26/50\n",
            " 1216/40000 [..............................] - ETA: 24s - loss: 0.4672 - acc: 0.9030"
          ],
          "name": "stdout"
        },
        {
          "output_type": "stream",
          "text": [
            "40000/40000 [==============================] - 28s 698us/step - loss: 0.4812 - acc: 0.8959 - val_loss: 0.6984 - val_acc: 0.8390\n",
            "Epoch 27/50\n",
            "40000/40000 [==============================] - 28s 695us/step - loss: 0.4741 - acc: 0.8986 - val_loss: 0.6940 - val_acc: 0.8408\n",
            "Epoch 28/50\n",
            " 1152/40000 [..............................] - ETA: 25s - loss: 0.4266 - acc: 0.9167"
          ],
          "name": "stdout"
        },
        {
          "output_type": "stream",
          "text": [
            "40000/40000 [==============================] - 28s 697us/step - loss: 0.4703 - acc: 0.9002 - val_loss: 0.7193 - val_acc: 0.8353\n",
            "Epoch 29/50\n",
            "40000/40000 [==============================] - 28s 693us/step - loss: 0.4725 - acc: 0.9013 - val_loss: 0.7016 - val_acc: 0.8434\n",
            "Epoch 30/50\n",
            " 1280/40000 [..............................] - ETA: 25s - loss: 0.4211 - acc: 0.9211"
          ],
          "name": "stdout"
        },
        {
          "output_type": "stream",
          "text": [
            "40000/40000 [==============================] - 28s 695us/step - loss: 0.4646 - acc: 0.9050 - val_loss: 0.7178 - val_acc: 0.8397\n",
            "Epoch 31/50\n",
            "40000/40000 [==============================] - 28s 694us/step - loss: 0.4661 - acc: 0.9052 - val_loss: 0.7319 - val_acc: 0.8358\n",
            "Epoch 32/50\n",
            " 1216/40000 [..............................] - ETA: 25s - loss: 0.4639 - acc: 0.9071"
          ],
          "name": "stdout"
        },
        {
          "output_type": "stream",
          "text": [
            "40000/40000 [==============================] - 28s 698us/step - loss: 0.4635 - acc: 0.9072 - val_loss: 0.7345 - val_acc: 0.8332\n",
            "Epoch 33/50\n",
            "40000/40000 [==============================] - 28s 695us/step - loss: 0.4617 - acc: 0.9071 - val_loss: 0.7306 - val_acc: 0.8387\n",
            "Epoch 34/50\n",
            " 1216/40000 [..............................] - ETA: 25s - loss: 0.4182 - acc: 0.9309"
          ],
          "name": "stdout"
        },
        {
          "output_type": "stream",
          "text": [
            "40000/40000 [==============================] - 28s 696us/step - loss: 0.4571 - acc: 0.9097 - val_loss: 0.7324 - val_acc: 0.8372\n",
            "Epoch 35/50\n",
            "40000/40000 [==============================] - 28s 696us/step - loss: 0.4552 - acc: 0.9108 - val_loss: 0.7330 - val_acc: 0.8381\n",
            "Epoch 36/50\n",
            " 1216/40000 [..............................] - ETA: 25s - loss: 0.4278 - acc: 0.9219"
          ],
          "name": "stdout"
        },
        {
          "output_type": "stream",
          "text": [
            "40000/40000 [==============================] - 28s 696us/step - loss: 0.4557 - acc: 0.9120 - val_loss: 0.7315 - val_acc: 0.8391\n",
            "Epoch 37/50\n",
            "40000/40000 [==============================] - 28s 696us/step - loss: 0.4521 - acc: 0.9122 - val_loss: 0.7153 - val_acc: 0.8453\n",
            "Epoch 38/50\n",
            " 1344/40000 [>.............................] - ETA: 25s - loss: 0.4266 - acc: 0.9226"
          ],
          "name": "stdout"
        },
        {
          "output_type": "stream",
          "text": [
            "40000/40000 [==============================] - 28s 696us/step - loss: 0.4478 - acc: 0.9134 - val_loss: 0.7299 - val_acc: 0.8414\n",
            "Epoch 39/50\n",
            "40000/40000 [==============================] - 28s 696us/step - loss: 0.4504 - acc: 0.9140 - val_loss: 0.7592 - val_acc: 0.8305\n",
            "Epoch 40/50\n",
            " 1216/40000 [..............................] - ETA: 24s - loss: 0.4345 - acc: 0.9153"
          ],
          "name": "stdout"
        },
        {
          "output_type": "stream",
          "text": [
            "40000/40000 [==============================] - 28s 695us/step - loss: 0.4502 - acc: 0.9143 - val_loss: 0.7225 - val_acc: 0.8413\n",
            "Epoch 41/50\n",
            "40000/40000 [==============================] - 28s 695us/step - loss: 0.4429 - acc: 0.9166 - val_loss: 0.7426 - val_acc: 0.8390\n",
            "Epoch 42/50\n",
            " 1088/40000 [..............................] - ETA: 25s - loss: 0.4348 - acc: 0.9219"
          ],
          "name": "stdout"
        },
        {
          "output_type": "stream",
          "text": [
            "40000/40000 [==============================] - 28s 697us/step - loss: 0.4474 - acc: 0.9165 - val_loss: 0.7119 - val_acc: 0.8469\n",
            "Epoch 43/50\n",
            "40000/40000 [==============================] - 28s 698us/step - loss: 0.4431 - acc: 0.9190 - val_loss: 0.7241 - val_acc: 0.8449\n",
            "Epoch 44/50\n",
            " 1216/40000 [..............................] - ETA: 24s - loss: 0.4183 - acc: 0.9235"
          ],
          "name": "stdout"
        },
        {
          "output_type": "stream",
          "text": [
            "40000/40000 [==============================] - 28s 694us/step - loss: 0.4472 - acc: 0.9167 - val_loss: 0.7365 - val_acc: 0.8432\n",
            "Epoch 45/50\n",
            "40000/40000 [==============================] - 28s 697us/step - loss: 0.4411 - acc: 0.9195 - val_loss: 0.7149 - val_acc: 0.8470\n",
            "Epoch 46/50\n",
            " 1088/40000 [..............................] - ETA: 25s - loss: 0.4316 - acc: 0.9154"
          ],
          "name": "stdout"
        },
        {
          "output_type": "stream",
          "text": [
            "40000/40000 [==============================] - 28s 694us/step - loss: 0.4403 - acc: 0.9190 - val_loss: 0.7438 - val_acc: 0.8432\n",
            "Epoch 47/50\n",
            "40000/40000 [==============================] - 28s 698us/step - loss: 0.4437 - acc: 0.9171 - val_loss: 0.7435 - val_acc: 0.8480\n",
            "Epoch 48/50\n",
            " 1216/40000 [..............................] - ETA: 24s - loss: 0.4290 - acc: 0.9194"
          ],
          "name": "stdout"
        },
        {
          "output_type": "stream",
          "text": [
            "40000/40000 [==============================] - 28s 697us/step - loss: 0.4438 - acc: 0.9195 - val_loss: 0.7537 - val_acc: 0.8417\n",
            "Epoch 49/50\n",
            "40000/40000 [==============================] - 28s 697us/step - loss: 0.4343 - acc: 0.9225 - val_loss: 0.7256 - val_acc: 0.8495\n",
            "Epoch 50/50\n",
            " 1216/40000 [..............................] - ETA: 24s - loss: 0.3970 - acc: 0.9326"
          ],
          "name": "stdout"
        },
        {
          "output_type": "stream",
          "text": [
            "40000/40000 [==============================] - 28s 696us/step - loss: 0.4393 - acc: 0.9197 - val_loss: 0.7336 - val_acc: 0.8437\n"
          ],
          "name": "stdout"
        }
      ]
    },
    {
      "metadata": {
        "id": "M2s76Ren_B-4",
        "colab_type": "code",
        "colab": {
          "base_uri": "https://localhost:8080/",
          "height": 349
        },
        "outputId": "fa26ef81-9114-421e-b2f3-b32c78d3155a"
      },
      "cell_type": "code",
      "source": [
        "plot_model(modeldetais)"
      ],
      "execution_count": 0,
      "outputs": [
        {
          "output_type": "display_data",
          "data": {
            "image/png": "[encoded data removed]",
            "text/plain": [
              "<matplotlib.figure.Figure at 0x7f6b75a26588>"
            ]
          },
          "metadata": {
            "tags": []
          }
        }
      ]
    },
    {
      "metadata": {
        "id": "dWiHtfhwFc7z",
        "colab_type": "text"
      },
      "cell_type": "markdown",
      "source": [
        "the result is still the same."
      ]
    },
    {
      "metadata": {
        "id": "uIEebGN14lT3",
        "colab_type": "text"
      },
      "cell_type": "markdown",
      "source": [
        "5th Model"
      ]
    },
    {
      "metadata": {
        "id": "AmnSH4BPFZ7N",
        "colab_type": "code",
        "colab": {
          "base_uri": "https://localhost:8080/",
          "height": 833
        },
        "outputId": "cd353b4c-0cb1-437a-8409-701bfeafeb96"
      },
      "cell_type": "code",
      "source": [
        "def lr_schedule(epoch):\n",
        "    lrate = 0.001\n",
        "    if epoch > 75:\n",
        "        lrate = 0.0005\n",
        "    elif epoch > 100:\n",
        "        lrate = 0.0003        \n",
        "    return lrate\n",
        "\n",
        "\n",
        "\n",
        "# Create the model\n",
        "weight_decay = 1e-4\n",
        "model = Sequential()\n",
        "model.add(Conv2D(32, (3, 3), input_shape=(3, 32, 32),kernel_regularizer=regularizers.l2(weight_decay), activation='relu', padding='same'))\n",
        "model.add(BatchNormalization())\n",
        "model.add(Conv2D(32, (3, 3), activation='relu',kernel_regularizer=regularizers.l2(weight_decay), padding='same'))\n",
        "model.add(BatchNormalization())\n",
        "model.add(MaxPooling2D(pool_size=(2, 2)))\n",
        "model.add(Dropout(0.2))\n",
        "\n",
        "model.add(Conv2D(64, (3, 3), activation='relu',kernel_regularizer=regularizers.l2(weight_decay), padding='same'))\n",
        "model.add(BatchNormalization())\n",
        "model.add(Conv2D(64, (3, 3), activation='relu', kernel_regularizer=regularizers.l2(weight_decay),padding='same'))\n",
        "model.add(BatchNormalization())\n",
        "model.add(MaxPooling2D(pool_size=(2, 2)))\n",
        "model.add(Dropout(0.3))\n",
        "\n",
        "model.add(Conv2D(128, (3, 3), activation='relu',kernel_regularizer=regularizers.l2(weight_decay), padding='same'))\n",
        "model.add(BatchNormalization())\n",
        "model.add(Conv2D(128, (3, 3), activation='relu',kernel_regularizer=regularizers.l2(weight_decay), padding='same'))\n",
        "model.add(BatchNormalization())\n",
        "model.add(MaxPooling2D(pool_size=(2, 2)))\n",
        "model.add(Dropout(0.4))\n",
        "\n",
        "model.add(Flatten())\n",
        "model.add(Dense(num_classes, activation='softmax'))\n",
        "\n",
        "\n",
        "\n",
        "#data augmentation\n",
        "datagen = ImageDataGenerator(\n",
        "    rotation_range=15,\n",
        "    width_shift_range=0.1,\n",
        "    height_shift_range=0.1,\n",
        "    horizontal_flip=True,\n",
        "    )\n",
        "datagen.fit(X_train)\n",
        "\n",
        "nadam=keras.optimizers.Nadam(lr=0.001, beta_1=0.9, beta_2=0.999, epsilon=None, schedule_decay=0.004)\n",
        "model.compile(loss='categorical_crossentropy', optimizer=nadam, metrics=['accuracy'])\n",
        "print(model.summary())\n"
      ],
      "execution_count": 26,
      "outputs": [
        {
          "output_type": "stream",
          "text": [
            "_________________________________________________________________\n",
            "Layer (type)                 Output Shape              Param #   \n",
            "=================================================================\n",
            "conv2d_9 (Conv2D)            (None, 32, 32, 32)        896       \n",
            "_________________________________________________________________\n",
            "batch_normalization_7 (Batch (None, 32, 32, 32)        128       \n",
            "_________________________________________________________________\n",
            "conv2d_10 (Conv2D)           (None, 32, 32, 32)        9248      \n",
            "_________________________________________________________________\n",
            "batch_normalization_8 (Batch (None, 32, 32, 32)        128       \n",
            "_________________________________________________________________\n",
            "max_pooling2d_5 (MaxPooling2 (None, 32, 16, 16)        0         \n",
            "_________________________________________________________________\n",
            "dropout_6 (Dropout)          (None, 32, 16, 16)        0         \n",
            "_________________________________________________________________\n",
            "conv2d_11 (Conv2D)           (None, 64, 16, 16)        18496     \n",
            "_________________________________________________________________\n",
            "batch_normalization_9 (Batch (None, 64, 16, 16)        64        \n",
            "_________________________________________________________________\n",
            "conv2d_12 (Conv2D)           (None, 64, 16, 16)        36928     \n",
            "_________________________________________________________________\n",
            "batch_normalization_10 (Batc (None, 64, 16, 16)        64        \n",
            "_________________________________________________________________\n",
            "max_pooling2d_6 (MaxPooling2 (None, 64, 8, 8)          0         \n",
            "_________________________________________________________________\n",
            "dropout_7 (Dropout)          (None, 64, 8, 8)          0         \n",
            "_________________________________________________________________\n",
            "conv2d_13 (Conv2D)           (None, 128, 8, 8)         73856     \n",
            "_________________________________________________________________\n",
            "batch_normalization_11 (Batc (None, 128, 8, 8)         32        \n",
            "_________________________________________________________________\n",
            "conv2d_14 (Conv2D)           (None, 128, 8, 8)         147584    \n",
            "_________________________________________________________________\n",
            "batch_normalization_12 (Batc (None, 128, 8, 8)         32        \n",
            "_________________________________________________________________\n",
            "max_pooling2d_7 (MaxPooling2 (None, 128, 4, 4)         0         \n",
            "_________________________________________________________________\n",
            "dropout_8 (Dropout)          (None, 128, 4, 4)         0         \n",
            "_________________________________________________________________\n",
            "flatten_3 (Flatten)          (None, 2048)              0         \n",
            "_________________________________________________________________\n",
            "dense_4 (Dense)              (None, 10)                20490     \n",
            "=================================================================\n",
            "Total params: 307,946\n",
            "Trainable params: 307,722\n",
            "Non-trainable params: 224\n",
            "_________________________________________________________________\n",
            "None\n"
          ],
          "name": "stdout"
        }
      ]
    },
    {
      "metadata": {
        "id": "CphVVJ2I442v",
        "colab_type": "code",
        "colab": {}
      },
      "cell_type": "code",
      "source": [
        "class AccuracyHistory(keras.callbacks.Callback):\n",
        "    def on_train_begin(self, logs={}):\n",
        "        self.acc = []\n",
        "\n",
        "    def on_epoch_end(self, batch, logs={}):\n",
        "        self.acc.append(logs.get('acc'))\n",
        "\n",
        "history = AccuracyHistory()"
      ],
      "execution_count": 0,
      "outputs": []
    },
    {
      "metadata": {
        "id": "R47R3ZNO5DKH",
        "colab_type": "code",
        "colab": {
          "base_uri": "https://localhost:8080/",
          "height": 4304
        },
        "outputId": "9f37609f-ab86-4fb8-e9f0-ea95890ff561"
      },
      "cell_type": "code",
      "source": [
        "model5 = model.fit(X_train, y_train, validation_data=(X_valid, y_valid), epochs=125, batch_size=64,callbacks=[history])"
      ],
      "execution_count": 28,
      "outputs": [
        {
          "output_type": "stream",
          "text": [
            "Train on 40000 samples, validate on 10000 samples\n",
            "Epoch 1/125\n",
            "40000/40000 [==============================] - 44s 1ms/step - loss: 1.8165 - acc: 0.3996 - val_loss: 1.2401 - val_acc: 0.5596\n",
            "Epoch 2/125\n",
            " 1216/40000 [..............................] - ETA: 26s - loss: 1.2649 - acc: 0.5600"
          ],
          "name": "stdout"
        },
        {
          "output_type": "stream",
          "text": [
            "40000/40000 [==============================] - 28s 709us/step - loss: 1.1301 - acc: 0.6167 - val_loss: 0.9658 - val_acc: 0.6800\n",
            "Epoch 3/125\n",
            "40000/40000 [==============================] - 28s 706us/step - loss: 0.9089 - acc: 0.7004 - val_loss: 0.8185 - val_acc: 0.7311\n",
            "Epoch 4/125\n",
            "  576/40000 [..............................] - ETA: 25s - loss: 0.7613 - acc: 0.7431"
          ],
          "name": "stdout"
        },
        {
          "output_type": "stream",
          "text": [
            "40000/40000 [==============================] - 28s 702us/step - loss: 0.8036 - acc: 0.7399 - val_loss: 0.7948 - val_acc: 0.7483\n",
            "Epoch 5/125\n",
            "40000/40000 [==============================] - 28s 700us/step - loss: 0.7338 - acc: 0.7666 - val_loss: 0.6807 - val_acc: 0.7864\n",
            "Epoch 6/125\n",
            "  832/40000 [..............................] - ETA: 25s - loss: 0.7136 - acc: 0.7885"
          ],
          "name": "stdout"
        },
        {
          "output_type": "stream",
          "text": [
            "40000/40000 [==============================] - 28s 701us/step - loss: 0.6844 - acc: 0.7856 - val_loss: 0.6724 - val_acc: 0.7994\n",
            "Epoch 7/125\n",
            "40000/40000 [==============================] - 28s 702us/step - loss: 0.6488 - acc: 0.8034 - val_loss: 0.6740 - val_acc: 0.8012\n",
            "Epoch 8/125\n",
            "  320/40000 [..............................] - ETA: 25s - loss: 0.6574 - acc: 0.7969"
          ],
          "name": "stdout"
        },
        {
          "output_type": "stream",
          "text": [
            "40000/40000 [==============================] - 28s 704us/step - loss: 0.6180 - acc: 0.8163 - val_loss: 0.6647 - val_acc: 0.8034\n",
            "Epoch 9/125\n",
            "40000/40000 [==============================] - 28s 705us/step - loss: 0.5979 - acc: 0.8246 - val_loss: 0.6523 - val_acc: 0.8091\n",
            "Epoch 10/125\n",
            "  192/40000 [..............................] - ETA: 26s - loss: 0.5006 - acc: 0.8490"
          ],
          "name": "stdout"
        },
        {
          "output_type": "stream",
          "text": [
            "40000/40000 [==============================] - 28s 705us/step - loss: 0.5710 - acc: 0.8413 - val_loss: 0.6825 - val_acc: 0.8067\n",
            "Epoch 11/125\n",
            "40000/40000 [==============================] - 28s 701us/step - loss: 0.5625 - acc: 0.8418 - val_loss: 0.6223 - val_acc: 0.8280\n",
            "Epoch 12/125\n",
            "  192/40000 [..............................] - ETA: 25s - loss: 0.4608 - acc: 0.8750"
          ],
          "name": "stdout"
        },
        {
          "output_type": "stream",
          "text": [
            "40000/40000 [==============================] - 28s 700us/step - loss: 0.5486 - acc: 0.8495 - val_loss: 0.6450 - val_acc: 0.8259\n",
            "Epoch 13/125\n",
            "40000/40000 [==============================] - 28s 705us/step - loss: 0.5369 - acc: 0.8553 - val_loss: 0.6438 - val_acc: 0.8272\n",
            "Epoch 14/125\n",
            "  448/40000 [..............................] - ETA: 25s - loss: 0.4459 - acc: 0.8929"
          ],
          "name": "stdout"
        },
        {
          "output_type": "stream",
          "text": [
            "40000/40000 [==============================] - 28s 707us/step - loss: 0.5224 - acc: 0.8646 - val_loss: 0.6511 - val_acc: 0.8298\n",
            "Epoch 15/125\n",
            "40000/40000 [==============================] - 28s 709us/step - loss: 0.5145 - acc: 0.8672 - val_loss: 0.6520 - val_acc: 0.8294\n",
            "Epoch 16/125\n",
            "  192/40000 [..............................] - ETA: 26s - loss: 0.4324 - acc: 0.9115"
          ],
          "name": "stdout"
        },
        {
          "output_type": "stream",
          "text": [
            "40000/40000 [==============================] - 28s 704us/step - loss: 0.5032 - acc: 0.8736 - val_loss: 0.6641 - val_acc: 0.8326\n",
            "Epoch 17/125\n",
            "40000/40000 [==============================] - 28s 708us/step - loss: 0.5002 - acc: 0.8765 - val_loss: 0.6505 - val_acc: 0.8370\n",
            "Epoch 18/125\n",
            "  192/40000 [..............................] - ETA: 26s - loss: 0.4706 - acc: 0.8906"
          ],
          "name": "stdout"
        },
        {
          "output_type": "stream",
          "text": [
            "40000/40000 [==============================] - 28s 706us/step - loss: 0.4917 - acc: 0.8802 - val_loss: 0.7001 - val_acc: 0.8263\n",
            "Epoch 19/125\n",
            "40000/40000 [==============================] - 28s 707us/step - loss: 0.4903 - acc: 0.8829 - val_loss: 0.6590 - val_acc: 0.8369\n",
            "Epoch 20/125\n",
            "   64/40000 [..............................] - ETA: 29s - loss: 0.4731 - acc: 0.8906"
          ],
          "name": "stdout"
        },
        {
          "output_type": "stream",
          "text": [
            "40000/40000 [==============================] - 28s 705us/step - loss: 0.4835 - acc: 0.8884 - val_loss: 0.6460 - val_acc: 0.8427\n",
            "Epoch 21/125\n",
            "40000/40000 [==============================] - 28s 708us/step - loss: 0.4798 - acc: 0.8887 - val_loss: 0.6575 - val_acc: 0.8391\n",
            "Epoch 22/125\n",
            "  576/40000 [..............................] - ETA: 26s - loss: 0.4419 - acc: 0.9062"
          ],
          "name": "stdout"
        },
        {
          "output_type": "stream",
          "text": [
            "40000/40000 [==============================] - 28s 709us/step - loss: 0.4751 - acc: 0.8908 - val_loss: 0.6489 - val_acc: 0.8487\n",
            "Epoch 23/125\n",
            "40000/40000 [==============================] - 28s 704us/step - loss: 0.4682 - acc: 0.8965 - val_loss: 0.7122 - val_acc: 0.8334\n",
            "Epoch 24/125\n",
            "  448/40000 [..............................] - ETA: 26s - loss: 0.4188 - acc: 0.9040"
          ],
          "name": "stdout"
        },
        {
          "output_type": "stream",
          "text": [
            "40000/40000 [==============================] - 28s 708us/step - loss: 0.4703 - acc: 0.8958 - val_loss: 0.6982 - val_acc: 0.8332\n",
            "Epoch 25/125\n",
            "40000/40000 [==============================] - 28s 708us/step - loss: 0.4658 - acc: 0.8988 - val_loss: 0.6772 - val_acc: 0.8446\n",
            "Epoch 26/125\n",
            "  576/40000 [..............................] - ETA: 25s - loss: 0.3881 - acc: 0.9358"
          ],
          "name": "stdout"
        },
        {
          "output_type": "stream",
          "text": [
            "40000/40000 [==============================] - 28s 710us/step - loss: 0.4623 - acc: 0.9014 - val_loss: 0.6730 - val_acc: 0.8472\n",
            "Epoch 27/125\n",
            "40000/40000 [==============================] - 28s 707us/step - loss: 0.4609 - acc: 0.9032 - val_loss: 0.7115 - val_acc: 0.8336\n",
            "Epoch 28/125\n",
            "  448/40000 [..............................] - ETA: 27s - loss: 0.4573 - acc: 0.9085"
          ],
          "name": "stdout"
        },
        {
          "output_type": "stream",
          "text": [
            "40000/40000 [==============================] - 28s 708us/step - loss: 0.4591 - acc: 0.9040 - val_loss: 0.6707 - val_acc: 0.8456\n",
            "Epoch 29/125\n",
            "40000/40000 [==============================] - 28s 702us/step - loss: 0.4533 - acc: 0.9077 - val_loss: 0.6962 - val_acc: 0.8439\n",
            "Epoch 30/125\n",
            "  448/40000 [..............................] - ETA: 26s - loss: 0.4280 - acc: 0.8906"
          ],
          "name": "stdout"
        },
        {
          "output_type": "stream",
          "text": [
            "40000/40000 [==============================] - 28s 703us/step - loss: 0.4532 - acc: 0.9075 - val_loss: 0.6986 - val_acc: 0.8440\n",
            "Epoch 31/125\n",
            "40000/40000 [==============================] - 28s 707us/step - loss: 0.4488 - acc: 0.9103 - val_loss: 0.6909 - val_acc: 0.8454\n",
            "Epoch 32/125\n",
            "  320/40000 [..............................] - ETA: 26s - loss: 0.4168 - acc: 0.9219"
          ],
          "name": "stdout"
        },
        {
          "output_type": "stream",
          "text": [
            "40000/40000 [==============================] - 28s 708us/step - loss: 0.4516 - acc: 0.9092 - val_loss: 0.6943 - val_acc: 0.8468\n",
            "Epoch 33/125\n",
            "40000/40000 [==============================] - 28s 707us/step - loss: 0.4478 - acc: 0.9112 - val_loss: 0.7011 - val_acc: 0.8434\n",
            "Epoch 34/125\n",
            "  448/40000 [..............................] - ETA: 26s - loss: 0.4304 - acc: 0.9196"
          ],
          "name": "stdout"
        },
        {
          "output_type": "stream",
          "text": [
            "40000/40000 [==============================] - 28s 701us/step - loss: 0.4487 - acc: 0.9117 - val_loss: 0.7073 - val_acc: 0.8409\n",
            "Epoch 35/125\n",
            "40000/40000 [==============================] - 28s 705us/step - loss: 0.4391 - acc: 0.9140 - val_loss: 0.6968 - val_acc: 0.8544\n",
            "Epoch 36/125\n",
            "  704/40000 [..............................] - ETA: 25s - loss: 0.4528 - acc: 0.9062"
          ],
          "name": "stdout"
        },
        {
          "output_type": "stream",
          "text": [
            "40000/40000 [==============================] - 28s 700us/step - loss: 0.4429 - acc: 0.9145 - val_loss: 0.6845 - val_acc: 0.8530\n",
            "Epoch 37/125\n",
            "40000/40000 [==============================] - 28s 701us/step - loss: 0.4423 - acc: 0.9142 - val_loss: 0.7193 - val_acc: 0.8417\n",
            "Epoch 38/125\n",
            "  704/40000 [..............................] - ETA: 26s - loss: 0.4594 - acc: 0.9077"
          ],
          "name": "stdout"
        },
        {
          "output_type": "stream",
          "text": [
            "40000/40000 [==============================] - 28s 700us/step - loss: 0.4369 - acc: 0.9184 - val_loss: 0.7103 - val_acc: 0.8465\n",
            "Epoch 39/125\n",
            "40000/40000 [==============================] - 28s 707us/step - loss: 0.4383 - acc: 0.9174 - val_loss: 0.7199 - val_acc: 0.8482\n",
            "Epoch 40/125\n",
            "  704/40000 [..............................] - ETA: 25s - loss: 0.3975 - acc: 0.9276"
          ],
          "name": "stdout"
        },
        {
          "output_type": "stream",
          "text": [
            "40000/40000 [==============================] - 28s 705us/step - loss: 0.4403 - acc: 0.9174 - val_loss: 0.7233 - val_acc: 0.8481\n",
            "Epoch 41/125\n",
            "40000/40000 [==============================] - 28s 708us/step - loss: 0.4348 - acc: 0.9186 - val_loss: 0.7054 - val_acc: 0.8480\n",
            "Epoch 42/125\n",
            "  576/40000 [..............................] - ETA: 26s - loss: 0.4189 - acc: 0.9271"
          ],
          "name": "stdout"
        },
        {
          "output_type": "stream",
          "text": [
            "40000/40000 [==============================] - 28s 710us/step - loss: 0.4397 - acc: 0.9177 - val_loss: 0.6957 - val_acc: 0.8430\n",
            "Epoch 43/125\n",
            "40000/40000 [==============================] - 28s 706us/step - loss: 0.4366 - acc: 0.9191 - val_loss: 0.7058 - val_acc: 0.8480\n",
            "Epoch 44/125\n",
            "  448/40000 [..............................] - ETA: 25s - loss: 0.3982 - acc: 0.9353"
          ],
          "name": "stdout"
        },
        {
          "output_type": "stream",
          "text": [
            "40000/40000 [==============================] - 28s 704us/step - loss: 0.4319 - acc: 0.9213 - val_loss: 0.7210 - val_acc: 0.8426\n",
            "Epoch 45/125\n",
            "40000/40000 [==============================] - 28s 705us/step - loss: 0.4275 - acc: 0.9233 - val_loss: 0.7197 - val_acc: 0.8488\n",
            "Epoch 46/125\n",
            "  448/40000 [..............................] - ETA: 25s - loss: 0.4323 - acc: 0.9196"
          ],
          "name": "stdout"
        },
        {
          "output_type": "stream",
          "text": [
            "40000/40000 [==============================] - 28s 707us/step - loss: 0.4323 - acc: 0.9208 - val_loss: 0.6978 - val_acc: 0.8523\n",
            "Epoch 47/125\n",
            "40000/40000 [==============================] - 28s 706us/step - loss: 0.4314 - acc: 0.9226 - val_loss: 0.7116 - val_acc: 0.8491\n",
            "Epoch 48/125\n",
            "  448/40000 [..............................] - ETA: 26s - loss: 0.3886 - acc: 0.9353"
          ],
          "name": "stdout"
        },
        {
          "output_type": "stream",
          "text": [
            "40000/40000 [==============================] - 28s 707us/step - loss: 0.4274 - acc: 0.9232 - val_loss: 0.7246 - val_acc: 0.8499\n",
            "Epoch 49/125\n",
            "40000/40000 [==============================] - 28s 706us/step - loss: 0.4302 - acc: 0.9220 - val_loss: 0.7217 - val_acc: 0.8494\n",
            "Epoch 50/125\n",
            "  320/40000 [..............................] - ETA: 26s - loss: 0.4104 - acc: 0.9187"
          ],
          "name": "stdout"
        },
        {
          "output_type": "stream",
          "text": [
            "40000/40000 [==============================] - 28s 703us/step - loss: 0.4267 - acc: 0.9232 - val_loss: 0.7302 - val_acc: 0.8469\n",
            "Epoch 51/125\n",
            "40000/40000 [==============================] - 28s 703us/step - loss: 0.4255 - acc: 0.9252 - val_loss: 0.7137 - val_acc: 0.8527\n",
            "Epoch 52/125\n",
            "  320/40000 [..............................] - ETA: 27s - loss: 0.4057 - acc: 0.9563"
          ],
          "name": "stdout"
        },
        {
          "output_type": "stream",
          "text": [
            "40000/40000 [==============================] - 28s 703us/step - loss: 0.4276 - acc: 0.9240 - val_loss: 0.7169 - val_acc: 0.8466\n",
            "Epoch 53/125\n",
            "40000/40000 [==============================] - 28s 707us/step - loss: 0.4247 - acc: 0.9265 - val_loss: 0.7434 - val_acc: 0.8444\n",
            "Epoch 54/125\n",
            "  192/40000 [..............................] - ETA: 26s - loss: 0.4599 - acc: 0.9010"
          ],
          "name": "stdout"
        },
        {
          "output_type": "stream",
          "text": [
            "40000/40000 [==============================] - 28s 702us/step - loss: 0.4276 - acc: 0.9250 - val_loss: 0.7181 - val_acc: 0.8512\n",
            "Epoch 55/125\n",
            "40000/40000 [==============================] - 28s 704us/step - loss: 0.4236 - acc: 0.9267 - val_loss: 0.7056 - val_acc: 0.8539\n",
            "Epoch 56/125\n",
            "  192/40000 [..............................] - ETA: 26s - loss: 0.3892 - acc: 0.9323"
          ],
          "name": "stdout"
        },
        {
          "output_type": "stream",
          "text": [
            "40000/40000 [==============================] - 28s 707us/step - loss: 0.4232 - acc: 0.9265 - val_loss: 0.7388 - val_acc: 0.8491\n",
            "Epoch 57/125\n",
            "40000/40000 [==============================] - 28s 703us/step - loss: 0.4146 - acc: 0.9291 - val_loss: 0.7126 - val_acc: 0.8494\n",
            "Epoch 58/125\n",
            "  448/40000 [..............................] - ETA: 26s - loss: 0.4240 - acc: 0.9286"
          ],
          "name": "stdout"
        },
        {
          "output_type": "stream",
          "text": [
            "40000/40000 [==============================] - 28s 706us/step - loss: 0.4231 - acc: 0.9280 - val_loss: 0.7024 - val_acc: 0.8491\n",
            "Epoch 59/125\n",
            "40000/40000 [==============================] - 28s 701us/step - loss: 0.4169 - acc: 0.9301 - val_loss: 0.7135 - val_acc: 0.8517\n",
            "Epoch 60/125\n",
            "  448/40000 [..............................] - ETA: 27s - loss: 0.4247 - acc: 0.9174"
          ],
          "name": "stdout"
        },
        {
          "output_type": "stream",
          "text": [
            "40000/40000 [==============================] - 28s 706us/step - loss: 0.4194 - acc: 0.9280 - val_loss: 0.6968 - val_acc: 0.8522\n",
            "Epoch 61/125\n",
            "40000/40000 [==============================] - 28s 700us/step - loss: 0.4194 - acc: 0.9296 - val_loss: 0.7290 - val_acc: 0.8484\n",
            "Epoch 62/125\n",
            "  576/40000 [..............................] - ETA: 25s - loss: 0.3688 - acc: 0.9427"
          ],
          "name": "stdout"
        },
        {
          "output_type": "stream",
          "text": [
            "40000/40000 [==============================] - 28s 699us/step - loss: 0.4152 - acc: 0.9308 - val_loss: 0.7187 - val_acc: 0.8552\n",
            "Epoch 63/125\n",
            "40000/40000 [==============================] - 28s 698us/step - loss: 0.4185 - acc: 0.9273 - val_loss: 0.7064 - val_acc: 0.8543\n",
            "Epoch 64/125\n",
            "  832/40000 [..............................] - ETA: 25s - loss: 0.3938 - acc: 0.9387"
          ],
          "name": "stdout"
        },
        {
          "output_type": "stream",
          "text": [
            "40000/40000 [==============================] - 28s 696us/step - loss: 0.4212 - acc: 0.9277 - val_loss: 0.7245 - val_acc: 0.8504\n",
            "Epoch 65/125\n",
            "40000/40000 [==============================] - 28s 699us/step - loss: 0.4167 - acc: 0.9293 - val_loss: 0.6979 - val_acc: 0.8577\n",
            "Epoch 66/125\n",
            "  704/40000 [..............................] - ETA: 25s - loss: 0.3915 - acc: 0.9276"
          ],
          "name": "stdout"
        },
        {
          "output_type": "stream",
          "text": [
            "40000/40000 [==============================] - 28s 700us/step - loss: 0.4116 - acc: 0.9320 - val_loss: 0.7208 - val_acc: 0.8559\n",
            "Epoch 67/125\n",
            "40000/40000 [==============================] - 28s 696us/step - loss: 0.4163 - acc: 0.9306 - val_loss: 0.7227 - val_acc: 0.8521\n",
            "Epoch 68/125\n",
            "  576/40000 [..............................] - ETA: 25s - loss: 0.3994 - acc: 0.9392"
          ],
          "name": "stdout"
        },
        {
          "output_type": "stream",
          "text": [
            "40000/40000 [==============================] - 28s 697us/step - loss: 0.4128 - acc: 0.9310 - val_loss: 0.7089 - val_acc: 0.8512\n",
            "Epoch 69/125\n",
            "40000/40000 [==============================] - 28s 699us/step - loss: 0.4129 - acc: 0.9305 - val_loss: 0.7322 - val_acc: 0.8514\n",
            "Epoch 70/125\n",
            "  448/40000 [..............................] - ETA: 25s - loss: 0.4017 - acc: 0.9487"
          ],
          "name": "stdout"
        },
        {
          "output_type": "stream",
          "text": [
            "40000/40000 [==============================] - 28s 698us/step - loss: 0.4109 - acc: 0.9330 - val_loss: 0.7004 - val_acc: 0.8531\n",
            "Epoch 71/125\n",
            "40000/40000 [==============================] - 28s 699us/step - loss: 0.4148 - acc: 0.9303 - val_loss: 0.7162 - val_acc: 0.8524\n",
            "Epoch 72/125\n",
            "  448/40000 [..............................] - ETA: 25s - loss: 0.3666 - acc: 0.9487"
          ],
          "name": "stdout"
        },
        {
          "output_type": "stream",
          "text": [
            "40000/40000 [==============================] - 28s 696us/step - loss: 0.4092 - acc: 0.9328 - val_loss: 0.7282 - val_acc: 0.8542\n",
            "Epoch 73/125\n",
            "40000/40000 [==============================] - 28s 699us/step - loss: 0.4136 - acc: 0.9316 - val_loss: 0.7116 - val_acc: 0.8573\n",
            "Epoch 74/125\n",
            "  448/40000 [..............................] - ETA: 25s - loss: 0.3763 - acc: 0.9531"
          ],
          "name": "stdout"
        },
        {
          "output_type": "stream",
          "text": [
            "40000/40000 [==============================] - 28s 699us/step - loss: 0.4109 - acc: 0.9331 - val_loss: 0.7084 - val_acc: 0.8595\n",
            "Epoch 75/125\n",
            "40000/40000 [==============================] - 28s 700us/step - loss: 0.4098 - acc: 0.9327 - val_loss: 0.7126 - val_acc: 0.8576\n",
            "Epoch 76/125\n",
            "  192/40000 [..............................] - ETA: 26s - loss: 0.4144 - acc: 0.9219"
          ],
          "name": "stdout"
        },
        {
          "output_type": "stream",
          "text": [
            "40000/40000 [==============================] - 28s 696us/step - loss: 0.4118 - acc: 0.9319 - val_loss: 0.7041 - val_acc: 0.8559\n",
            "Epoch 77/125\n",
            "40000/40000 [==============================] - 28s 698us/step - loss: 0.4043 - acc: 0.9353 - val_loss: 0.7116 - val_acc: 0.8579\n",
            "Epoch 78/125\n",
            "  448/40000 [..............................] - ETA: 25s - loss: 0.3732 - acc: 0.9397"
          ],
          "name": "stdout"
        },
        {
          "output_type": "stream",
          "text": [
            "40000/40000 [==============================] - 28s 695us/step - loss: 0.4052 - acc: 0.9339 - val_loss: 0.7175 - val_acc: 0.8580\n",
            "Epoch 79/125\n",
            "40000/40000 [==============================] - 28s 698us/step - loss: 0.4076 - acc: 0.9347 - val_loss: 0.6980 - val_acc: 0.8602\n",
            "Epoch 80/125\n",
            "  704/40000 [..............................] - ETA: 25s - loss: 0.3835 - acc: 0.9347"
          ],
          "name": "stdout"
        },
        {
          "output_type": "stream",
          "text": [
            "40000/40000 [==============================] - 28s 700us/step - loss: 0.4096 - acc: 0.9330 - val_loss: 0.7152 - val_acc: 0.8558\n",
            "Epoch 81/125\n",
            "40000/40000 [==============================] - 28s 696us/step - loss: 0.4071 - acc: 0.9344 - val_loss: 0.7080 - val_acc: 0.8584\n",
            "Epoch 82/125\n",
            "  448/40000 [..............................] - ETA: 25s - loss: 0.4045 - acc: 0.9330"
          ],
          "name": "stdout"
        },
        {
          "output_type": "stream",
          "text": [
            "40000/40000 [==============================] - 28s 696us/step - loss: 0.4051 - acc: 0.9350 - val_loss: 0.7259 - val_acc: 0.8547\n",
            "Epoch 83/125\n",
            "40000/40000 [==============================] - 28s 698us/step - loss: 0.4101 - acc: 0.9339 - val_loss: 0.7108 - val_acc: 0.8568\n",
            "Epoch 84/125\n",
            "  512/40000 [..............................] - ETA: 27s - loss: 0.3648 - acc: 0.9453"
          ],
          "name": "stdout"
        },
        {
          "output_type": "stream",
          "text": [
            "40000/40000 [==============================] - 28s 700us/step - loss: 0.4041 - acc: 0.9340 - val_loss: 0.7061 - val_acc: 0.8592\n",
            "Epoch 85/125\n",
            "40000/40000 [==============================] - 28s 700us/step - loss: 0.4075 - acc: 0.9340 - val_loss: 0.7272 - val_acc: 0.8530\n",
            "Epoch 86/125\n",
            "  640/40000 [..............................] - ETA: 25s - loss: 0.3639 - acc: 0.9500"
          ],
          "name": "stdout"
        },
        {
          "output_type": "stream",
          "text": [
            "40000/40000 [==============================] - 28s 702us/step - loss: 0.4026 - acc: 0.9356 - val_loss: 0.7247 - val_acc: 0.8538\n",
            "Epoch 87/125\n",
            "40000/40000 [==============================] - 28s 701us/step - loss: 0.4044 - acc: 0.9358 - val_loss: 0.7208 - val_acc: 0.8527\n",
            "Epoch 88/125\n",
            "  576/40000 [..............................] - ETA: 26s - loss: 0.4212 - acc: 0.9340"
          ],
          "name": "stdout"
        },
        {
          "output_type": "stream",
          "text": [
            "40000/40000 [==============================] - 28s 703us/step - loss: 0.4062 - acc: 0.9346 - val_loss: 0.7171 - val_acc: 0.8583\n",
            "Epoch 89/125\n",
            "40000/40000 [==============================] - 28s 704us/step - loss: 0.4024 - acc: 0.9356 - val_loss: 0.6941 - val_acc: 0.8621\n",
            "Epoch 90/125\n",
            "  576/40000 [..............................] - ETA: 26s - loss: 0.3470 - acc: 0.9583"
          ],
          "name": "stdout"
        },
        {
          "output_type": "stream",
          "text": [
            "40000/40000 [==============================] - 28s 705us/step - loss: 0.4024 - acc: 0.9357 - val_loss: 0.7079 - val_acc: 0.8561\n",
            "Epoch 91/125\n",
            "40000/40000 [==============================] - 28s 702us/step - loss: 0.4005 - acc: 0.9362 - val_loss: 0.6901 - val_acc: 0.8629\n",
            "Epoch 92/125\n",
            "  576/40000 [..............................] - ETA: 26s - loss: 0.3713 - acc: 0.9549"
          ],
          "name": "stdout"
        },
        {
          "output_type": "stream",
          "text": [
            "40000/40000 [==============================] - 28s 702us/step - loss: 0.4069 - acc: 0.9339 - val_loss: 0.7206 - val_acc: 0.8596\n",
            "Epoch 93/125\n",
            "40000/40000 [==============================] - 28s 699us/step - loss: 0.4014 - acc: 0.9366 - val_loss: 0.6852 - val_acc: 0.8646\n",
            "Epoch 94/125\n",
            "  576/40000 [..............................] - ETA: 25s - loss: 0.3681 - acc: 0.9514"
          ],
          "name": "stdout"
        },
        {
          "output_type": "stream",
          "text": [
            "40000/40000 [==============================] - 28s 697us/step - loss: 0.4029 - acc: 0.9345 - val_loss: 0.7346 - val_acc: 0.8508\n",
            "Epoch 95/125\n",
            "40000/40000 [==============================] - 28s 698us/step - loss: 0.4022 - acc: 0.9349 - val_loss: 0.7112 - val_acc: 0.8569\n",
            "Epoch 96/125\n",
            "  832/40000 [..............................] - ETA: 25s - loss: 0.3702 - acc: 0.9435"
          ],
          "name": "stdout"
        },
        {
          "output_type": "stream",
          "text": [
            "40000/40000 [==============================] - 28s 703us/step - loss: 0.3988 - acc: 0.9367 - val_loss: 0.7204 - val_acc: 0.8528\n",
            "Epoch 97/125\n",
            "40000/40000 [==============================] - 28s 699us/step - loss: 0.3982 - acc: 0.9375 - val_loss: 0.7185 - val_acc: 0.8549\n",
            "Epoch 98/125\n",
            "  832/40000 [..............................] - ETA: 25s - loss: 0.3567 - acc: 0.9603"
          ],
          "name": "stdout"
        },
        {
          "output_type": "stream",
          "text": [
            "40000/40000 [==============================] - 28s 698us/step - loss: 0.4021 - acc: 0.9354 - val_loss: 0.6985 - val_acc: 0.8618\n",
            "Epoch 99/125\n",
            "40000/40000 [==============================] - 28s 702us/step - loss: 0.4001 - acc: 0.9367 - val_loss: 0.7410 - val_acc: 0.8497\n",
            "Epoch 100/125\n",
            "  704/40000 [..............................] - ETA: 25s - loss: 0.3745 - acc: 0.9489"
          ],
          "name": "stdout"
        },
        {
          "output_type": "stream",
          "text": [
            "40000/40000 [==============================] - 28s 701us/step - loss: 0.4003 - acc: 0.9381 - val_loss: 0.7167 - val_acc: 0.8569\n",
            "Epoch 101/125\n",
            "40000/40000 [==============================] - 28s 699us/step - loss: 0.3969 - acc: 0.9377 - val_loss: 0.7193 - val_acc: 0.8547\n",
            "Epoch 102/125\n",
            "  576/40000 [..............................] - ETA: 26s - loss: 0.3732 - acc: 0.9462"
          ],
          "name": "stdout"
        },
        {
          "output_type": "stream",
          "text": [
            "40000/40000 [==============================] - 28s 702us/step - loss: 0.3938 - acc: 0.9378 - val_loss: 0.6841 - val_acc: 0.8645\n",
            "Epoch 103/125\n",
            "40000/40000 [==============================] - 28s 698us/step - loss: 0.4015 - acc: 0.9365 - val_loss: 0.7120 - val_acc: 0.8592\n",
            "Epoch 104/125\n",
            "  704/40000 [..............................] - ETA: 25s - loss: 0.3727 - acc: 0.9489"
          ],
          "name": "stdout"
        },
        {
          "output_type": "stream",
          "text": [
            "40000/40000 [==============================] - 28s 698us/step - loss: 0.4022 - acc: 0.9373 - val_loss: 0.7012 - val_acc: 0.8581\n",
            "Epoch 105/125\n",
            "40000/40000 [==============================] - 28s 703us/step - loss: 0.3965 - acc: 0.9380 - val_loss: 0.7086 - val_acc: 0.8593\n",
            "Epoch 106/125\n",
            "  448/40000 [..............................] - ETA: 25s - loss: 0.4048 - acc: 0.9308"
          ],
          "name": "stdout"
        },
        {
          "output_type": "stream",
          "text": [
            "40000/40000 [==============================] - 28s 697us/step - loss: 0.3975 - acc: 0.9376 - val_loss: 0.6970 - val_acc: 0.8593\n",
            "Epoch 107/125\n",
            "40000/40000 [==============================] - 28s 698us/step - loss: 0.3942 - acc: 0.9396 - val_loss: 0.7295 - val_acc: 0.8543\n",
            "Epoch 108/125\n",
            "  448/40000 [..............................] - ETA: 25s - loss: 0.3737 - acc: 0.9420"
          ],
          "name": "stdout"
        },
        {
          "output_type": "stream",
          "text": [
            "40000/40000 [==============================] - 28s 699us/step - loss: 0.3959 - acc: 0.9397 - val_loss: 0.7081 - val_acc: 0.8620\n",
            "Epoch 109/125\n",
            "40000/40000 [==============================] - 28s 697us/step - loss: 0.3993 - acc: 0.9378 - val_loss: 0.7165 - val_acc: 0.8616\n",
            "Epoch 110/125\n",
            "  192/40000 [..............................] - ETA: 26s - loss: 0.3915 - acc: 0.9479"
          ],
          "name": "stdout"
        },
        {
          "output_type": "stream",
          "text": [
            "40000/40000 [==============================] - 28s 700us/step - loss: 0.3941 - acc: 0.9383 - val_loss: 0.6794 - val_acc: 0.8644\n",
            "Epoch 111/125\n",
            "40000/40000 [==============================] - 28s 700us/step - loss: 0.3939 - acc: 0.9383 - val_loss: 0.6894 - val_acc: 0.8603\n",
            "Epoch 112/125\n",
            "  320/40000 [..............................] - ETA: 25s - loss: 0.3789 - acc: 0.9375"
          ],
          "name": "stdout"
        },
        {
          "output_type": "stream",
          "text": [
            "40000/40000 [==============================] - 28s 695us/step - loss: 0.3954 - acc: 0.9380 - val_loss: 0.6921 - val_acc: 0.8635\n",
            "Epoch 113/125\n",
            "40000/40000 [==============================] - 28s 698us/step - loss: 0.3987 - acc: 0.9369 - val_loss: 0.7093 - val_acc: 0.8589\n",
            "Epoch 114/125\n",
            "  448/40000 [..............................] - ETA: 25s - loss: 0.4120 - acc: 0.9353"
          ],
          "name": "stdout"
        },
        {
          "output_type": "stream",
          "text": [
            "40000/40000 [==============================] - 28s 706us/step - loss: 0.3937 - acc: 0.9388 - val_loss: 0.7012 - val_acc: 0.8597\n",
            "Epoch 115/125\n",
            "40000/40000 [==============================] - 28s 708us/step - loss: 0.3931 - acc: 0.9401 - val_loss: 0.7116 - val_acc: 0.8599\n",
            "Epoch 116/125\n",
            "   64/40000 [..............................] - ETA: 33s - loss: 0.3214 - acc: 0.9688"
          ],
          "name": "stdout"
        },
        {
          "output_type": "stream",
          "text": [
            "40000/40000 [==============================] - 28s 706us/step - loss: 0.3928 - acc: 0.9400 - val_loss: 0.7122 - val_acc: 0.8577\n",
            "Epoch 117/125\n",
            "40000/40000 [==============================] - 28s 699us/step - loss: 0.3951 - acc: 0.9408 - val_loss: 0.7329 - val_acc: 0.8576\n",
            "Epoch 118/125\n",
            "  192/40000 [..............................] - ETA: 27s - loss: 0.3453 - acc: 0.9740"
          ],
          "name": "stdout"
        },
        {
          "output_type": "stream",
          "text": [
            "40000/40000 [==============================] - 28s 704us/step - loss: 0.3938 - acc: 0.9389 - val_loss: 0.7019 - val_acc: 0.8621\n",
            "Epoch 119/125\n",
            "40000/40000 [==============================] - 28s 701us/step - loss: 0.3923 - acc: 0.9387 - val_loss: 0.6928 - val_acc: 0.8647\n",
            "Epoch 120/125\n",
            "  320/40000 [..............................] - ETA: 25s - loss: 0.3851 - acc: 0.9406"
          ],
          "name": "stdout"
        },
        {
          "output_type": "stream",
          "text": [
            "40000/40000 [==============================] - 28s 702us/step - loss: 0.3929 - acc: 0.9389 - val_loss: 0.7175 - val_acc: 0.8592\n",
            "Epoch 121/125\n",
            "40000/40000 [==============================] - 28s 709us/step - loss: 0.3943 - acc: 0.9394 - val_loss: 0.7013 - val_acc: 0.8589\n",
            "Epoch 122/125\n",
            "  320/40000 [..............................] - ETA: 27s - loss: 0.4201 - acc: 0.9344"
          ],
          "name": "stdout"
        },
        {
          "output_type": "stream",
          "text": [
            "40000/40000 [==============================] - 28s 710us/step - loss: 0.3934 - acc: 0.9389 - val_loss: 0.7151 - val_acc: 0.8605\n",
            "Epoch 123/125\n",
            "40000/40000 [==============================] - 28s 702us/step - loss: 0.3912 - acc: 0.9400 - val_loss: 0.7069 - val_acc: 0.8594\n",
            "Epoch 124/125\n",
            "  576/40000 [..............................] - ETA: 26s - loss: 0.3494 - acc: 0.9601"
          ],
          "name": "stdout"
        },
        {
          "output_type": "stream",
          "text": [
            "40000/40000 [==============================] - 28s 704us/step - loss: 0.3901 - acc: 0.9398 - val_loss: 0.7079 - val_acc: 0.8606\n",
            "Epoch 125/125\n",
            "40000/40000 [==============================] - 28s 704us/step - loss: 0.3922 - acc: 0.9413 - val_loss: 0.7069 - val_acc: 0.8604\n"
          ],
          "name": "stdout"
        }
      ]
    },
    {
      "metadata": {
        "id": "q-wBx7C48_bl",
        "colab_type": "code",
        "colab": {
          "base_uri": "https://localhost:8080/",
          "height": 349
        },
        "outputId": "903b3df4-4d3a-4da9-ba07-906934368aee"
      },
      "cell_type": "code",
      "source": [
        "plot_model(model5)"
      ],
      "execution_count": 33,
      "outputs": [
        {
          "output_type": "display_data",
          "data": {
            "image/png": "[encoded data removed]",
            "text/plain": [
              "<matplotlib.figure.Figure at 0x7efd8719fb70>"
            ]
          },
          "metadata": {
            "tags": []
          }
        }
      ]
    },
    {
      "metadata": {
        "id": "FJeQ2KsRUR1q",
        "colab_type": "text"
      },
      "cell_type": "markdown",
      "source": [
        "Test Accuracy."
      ]
    },
    {
      "metadata": {
        "id": "67pLe9P8MDym",
        "colab_type": "code",
        "colab": {
          "base_uri": "https://localhost:8080/",
          "height": 349
        },
        "outputId": "b4eb2db1-37c5-428e-d40f-884529b10810"
      },
      "cell_type": "code",
      "source": [
        "plot_model(model5)"
      ],
      "execution_count": 0,
      "outputs": [
        {
          "output_type": "display_data",
          "data": {
            "image/png": "[encoded data removed]",
            "text/plain": [
              "<matplotlib.figure.Figure at 0x7f384a6de9b0>"
            ]
          },
          "metadata": {
            "tags": []
          }
        }
      ]
    },
    {
      "metadata": {
        "id": "XMBUNUDkt6ox",
        "colab_type": "text"
      },
      "cell_type": "markdown",
      "source": [
        "As you can see we get an approx accuracy nearly reachin 87% on test data."
      ]
    },
    {
      "metadata": {
        "id": "Ch_6IYoRWVRH",
        "colab_type": "code",
        "colab": {
          "base_uri": "https://localhost:8080/",
          "height": 68
        },
        "outputId": "91be57df-0122-44f9-d8dd-73ae4215ebaf"
      },
      "cell_type": "code",
      "source": [
        "scores = model.evaluate(X_test, y_test, verbose=1)\n",
        "print('Test loss:', scores[0])\n",
        "print('Test accuracy:', scores[1])"
      ],
      "execution_count": 40,
      "outputs": [
        {
          "output_type": "stream",
          "text": [
            "10000/10000 [==============================] - 3s 347us/step\n",
            "Test loss: 0.7249692743301391\n",
            "Test accuracy: 0.8534\n"
          ],
          "name": "stdout"
        }
      ]
    }
  ]
}